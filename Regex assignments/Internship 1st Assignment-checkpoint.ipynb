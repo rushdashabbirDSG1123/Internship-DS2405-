{
 "cells": [
  {
   "cell_type": "code",
   "execution_count": 22,
   "id": "07dccf8f",
   "metadata": {},
   "outputs": [
    {
     "name": "stdout",
     "output_type": "stream",
     "text": [
      "15\n"
     ]
    }
   ],
   "source": [
    "# 1 questions\n",
    "def func(a, b):\n",
    "    return b if a == 0 else func(b % a,a)\n",
    "print(func(30, 75))"
   ]
  },
  {
   "cell_type": "code",
   "execution_count": 31,
   "id": "ae7f21a6",
   "metadata": {},
   "outputs": [
    {
     "name": "stdout",
     "output_type": "stream",
     "text": [
      "<class 'filter'>\n"
     ]
    }
   ],
   "source": [
    "# 2nd questions\n",
    "numbers = (4, 7, 19, 2, 89, 45, 72, 22)\n",
    "sorted_numbers = sorted(numbers)\n",
    "even = lambda a: a % 2 == 0\n",
    "even_numbers = filter(even, sorted_numbers)\n",
    "print(type(even_numbers))"
   ]
  },
  {
   "cell_type": "code",
   "execution_count": 46,
   "id": "40af5aaf",
   "metadata": {},
   "outputs": [
    {
     "name": "stdout",
     "output_type": "stream",
     "text": [
      "[2, 4, 22, 72]\n",
      "<class 'filter'>\n"
     ]
    }
   ],
   "source": [
    "# we can write list and type also\n",
    "numbers = (4, 7, 19, 2, 89, 45, 72, 22)\n",
    "sorted_numbers = sorted(numbers)\n",
    "even = lambda a: a % 2 == 0\n",
    "even_numbers = filter(even, sorted_numbers)\n",
    "print(list(even_numbers))\n",
    "print(type(even_numbers))"
   ]
  },
  {
   "cell_type": "code",
   "execution_count": 43,
   "id": "afee13e7",
   "metadata": {},
   "outputs": [
    {
     "data": {
      "text/plain": [
       "[2, 4, 22, 72]"
      ]
     },
     "execution_count": 43,
     "metadata": {},
     "output_type": "execute_result"
    }
   ],
   "source": [
    "# OR \n",
    "numbers = (4, 7, 19, 2, 89, 45, 72, 22)\n",
    "sorted_numbers = sorted(numbers)\n",
    "even = lambda a: a % 2 == 0\n",
    "list(filter(even, sorted_numbers))"
   ]
  },
  {
   "cell_type": "code",
   "execution_count": 48,
   "id": "d56c0b67",
   "metadata": {},
   "outputs": [
    {
     "data": {
      "text/plain": [
       "True"
      ]
     },
     "execution_count": 48,
     "metadata": {},
     "output_type": "execute_result"
    }
   ],
   "source": [
    "# OR\n",
    "numbers = (4, 7, 19, 2, 89, 45, 72, 22)\n",
    "sorted_numbers = sorted(numbers)\n",
    "even = lambda a: a % 2 == 0\n",
    "even(4)"
   ]
  },
  {
   "cell_type": "code",
   "execution_count": 34,
   "id": "02e3bf2c",
   "metadata": {},
   "outputs": [
    {
     "data": {
      "text/plain": [
       "[4, 2, 72, 22]"
      ]
     },
     "execution_count": 34,
     "metadata": {},
     "output_type": "execute_result"
    }
   ],
   "source": [
    "numbers = (4, 7, 19, 2, 89, 45, 72, 22)\n",
    "even = lambda a: a % 2 == 0\n",
    "list(filter(even,numbers))"
   ]
  },
  {
   "cell_type": "code",
   "execution_count": 35,
   "id": "febe9891",
   "metadata": {},
   "outputs": [
    {
     "data": {
      "text/plain": [
       "[4, 2, 72, 22]"
      ]
     },
     "execution_count": 35,
     "metadata": {},
     "output_type": "execute_result"
    }
   ],
   "source": [
    "# we can wruite like this also\n",
    "numbers = (4, 7, 19, 2, 89, 45, 72, 22)\n",
    "list(filter(lambda a: a % 2 == 0,numbers))"
   ]
  },
  {
   "cell_type": "code",
   "execution_count": 61,
   "id": "4d1b6704",
   "metadata": {},
   "outputs": [
    {
     "ename": "TypeError",
     "evalue": "unsupported operand type(s) for +: 'set' and 'set'",
     "output_type": "error",
     "traceback": [
      "\u001b[1;31m---------------------------------------------------------------------------\u001b[0m",
      "\u001b[1;31mTypeError\u001b[0m                                 Traceback (most recent call last)",
      "Cell \u001b[1;32mIn[61], line 5\u001b[0m\n\u001b[0;32m      3\u001b[0m set2 \u001b[38;5;241m=\u001b[39m {\u001b[38;5;241m82\u001b[39m, \u001b[38;5;241m49\u001b[39m, \u001b[38;5;241m62\u001b[39m} \n\u001b[0;32m      4\u001b[0m set3 \u001b[38;5;241m=\u001b[39m {\u001b[38;5;241m99\u001b[39m,\u001b[38;5;241m22\u001b[39m,\u001b[38;5;241m17\u001b[39m}\n\u001b[1;32m----> 5\u001b[0m \u001b[38;5;28mprint\u001b[39m(\u001b[38;5;28mlen\u001b[39m(set1\u001b[38;5;241m+\u001b[39mset2\u001b[38;5;241m+\u001b[39mset3))\n",
      "\u001b[1;31mTypeError\u001b[0m: unsupported operand type(s) for +: 'set' and 'set'"
     ]
    }
   ],
   "source": [
    "# questions 4\n",
    "set1 = {14, 3, 55}\n",
    "set2 = {82, 49, 62} \n",
    "set3 = {99,22,17}\n",
    "print(len(set1+set2+set3))\n",
    "\n",
    "\n",
    "      \n"
   ]
  },
  {
   "cell_type": "code",
   "execution_count": 60,
   "id": "f656a6e4",
   "metadata": {},
   "outputs": [
    {
     "name": "stdout",
     "output_type": "stream",
     "text": [
      "3\n",
      "3\n",
      "3\n"
     ]
    }
   ],
   "source": [
    "# Correct way\n",
    "set1 = {14, 3, 55}\n",
    "set2 = {82, 49, 62} \n",
    "set3 = {99,22,17}\n",
    "print(len(set1))\n",
    "print(len(set2))\n",
    "print(len(set3))"
   ]
  },
  {
   "cell_type": "code",
   "execution_count": 62,
   "id": "c3cf284a",
   "metadata": {},
   "outputs": [
    {
     "name": "stdout",
     "output_type": "stream",
     "text": [
      "208\n"
     ]
    }
   ],
   "source": [
    "# question 5\n",
    "print(4**3 + (7 + 5)**(1 + 1))"
   ]
  },
  {
   "cell_type": "code",
   "execution_count": 78,
   "id": "9605c4a8",
   "metadata": {},
   "outputs": [
    {
     "name": "stdout",
     "output_type": "stream",
     "text": [
      "Enterprise Picard\n",
      "Voyager Janeway\n",
      "Defiant Sisko\n"
     ]
    }
   ],
   "source": [
    "# question 17 \n",
    "captains = {\"Enterprise\": \"Picard\",\n",
    "             \"Voyager\": \"Janeway\",\n",
    "             \"Defiant\": \"Sisko\",}\n",
    "for ship, captain in captains.items():\n",
    " print(ship, captain)\n"
   ]
  },
  {
   "cell_type": "code",
   "execution_count": 79,
   "id": "16b1d2d9",
   "metadata": {},
   "outputs": [
    {
     "name": "stdout",
     "output_type": "stream",
     "text": [
      "Enterprise Picard\n",
      "Voyager Janeway\n",
      "Defiant Sisko\n"
     ]
    }
   ],
   "source": [
    "# or\n",
    "captains = {\"Enterprise\": \"Picard\",\n",
    "             \"Voyager\": \"Janeway\",\n",
    "             \"Defiant\": \"Sisko\",}\n",
    "for ship in captains:\n",
    " print(ship, captains[ship])"
   ]
  },
  {
   "cell_type": "code",
   "execution_count": 80,
   "id": "6ba2a246",
   "metadata": {},
   "outputs": [],
   "source": [
    "# question 17\n",
    "captains = {\"Enterprise\": \"Picard\",\n",
    "             \"Voyager\": \"Janeway\",\n",
    "             \"Defiant\": \"Sisko\",}"
   ]
  },
  {
   "cell_type": "code",
   "execution_count": 82,
   "id": "08cea67c",
   "metadata": {},
   "outputs": [
    {
     "data": {
      "text/plain": [
       "{dict}"
      ]
     },
     "execution_count": 82,
     "metadata": {},
     "output_type": "execute_result"
    }
   ],
   "source": [
    "captains = {dict}\n",
    "captains"
   ]
  },
  {
   "cell_type": "code",
   "execution_count": 83,
   "id": "ed1c6c8b",
   "metadata": {},
   "outputs": [
    {
     "data": {
      "text/plain": [
       "set"
      ]
     },
     "execution_count": 83,
     "metadata": {},
     "output_type": "execute_result"
    }
   ],
   "source": [
    "type(captains)"
   ]
  },
  {
   "cell_type": "code",
   "execution_count": 84,
   "id": "56135b28",
   "metadata": {},
   "outputs": [
    {
     "ename": "AttributeError",
     "evalue": "'set' object has no attribute 'dict'",
     "output_type": "error",
     "traceback": [
      "\u001b[1;31m---------------------------------------------------------------------------\u001b[0m",
      "\u001b[1;31mAttributeError\u001b[0m                            Traceback (most recent call last)",
      "Cell \u001b[1;32mIn[84], line 1\u001b[0m\n\u001b[1;32m----> 1\u001b[0m captains\u001b[38;5;241m.\u001b[39mdict()\n",
      "\u001b[1;31mAttributeError\u001b[0m: 'set' object has no attribute 'dict'"
     ]
    }
   ],
   "source": [
    "captains.dict()"
   ]
  },
  {
   "cell_type": "code",
   "execution_count": 86,
   "id": "0fe9ce88",
   "metadata": {},
   "outputs": [
    {
     "data": {
      "text/plain": [
       "{}"
      ]
     },
     "execution_count": 86,
     "metadata": {},
     "output_type": "execute_result"
    }
   ],
   "source": [
    "captains = {}\n",
    "captains"
   ]
  },
  {
   "cell_type": "code",
   "execution_count": 130,
   "id": "dfbbf128",
   "metadata": {},
   "outputs": [
    {
     "data": {
      "text/plain": [
       "{'Enterprise': 'Picard', 'Voyager': 'Janeway', 'Defiant': 'Sisko'}"
      ]
     },
     "execution_count": 130,
     "metadata": {},
     "output_type": "execute_result"
    }
   ],
   "source": [
    "# questions 18 enter the vaolye in empty dictionary\n",
    "captains = {\"Enterprise\": \"Picard\",\n",
    " \"Voyager\": \"Janeway\",\n",
    " \"Defiant\": \"Sisko\",}\n",
    "captains"
   ]
  },
  {
   "cell_type": "code",
   "execution_count": 107,
   "id": "483e3d50",
   "metadata": {},
   "outputs": [
    {
     "name": "stdout",
     "output_type": "stream",
     "text": [
      "The Enterprise is captained by Picard.\n",
      "The Voyager is captained by Janeway.\n",
      "The Defiant is captained by Sisko.\n"
     ]
    }
   ],
   "source": [
    "# question 19\n",
    "#Now, say you want to display the ship and captain names contained in the dictionary, but you also\n",
    "# want to provide some additional context. How could you do it? its is correct\n",
    "captains = {\"Enterprise\": \"Picard\",\n",
    " \"Voyager\": \"Janeway\",\n",
    " \"Defiant\": \"Sisko\",}\n",
    "for ship, captain in captains.items():\n",
    " print(f\"The {ship} is captained by {captain}.\")"
   ]
  },
  {
   "cell_type": "code",
   "execution_count": 114,
   "id": "894d72f9",
   "metadata": {},
   "outputs": [
    {
     "name": "stdout",
     "output_type": "stream",
     "text": [
      "The Picard is captained by Enterprise.\n",
      "The Janeway is captained by Voyager.\n",
      "The Sisko is captained by Defiant.\n"
     ]
    }
   ],
   "source": [
    "#or \n",
    "for captain, ship in captains.items():\n",
    " print(f\"The {ship} is captained by {captain}.\")"
   ]
  },
  {
   "cell_type": "code",
   "execution_count": 118,
   "id": "a8b5531b",
   "metadata": {},
   "outputs": [
    {
     "name": "stdout",
     "output_type": "stream",
     "text": [
      "The [ship] is captained by [captain].\n",
      "The [ship] is captained by [captain].\n",
      "The [ship] is captained by [captain].\n"
     ]
    }
   ],
   "source": [
    "#not working\n",
    "for item in captains.items():\n",
    " print(f\"The [ship] is captained by [captain].\")"
   ]
  },
  {
   "cell_type": "code",
   "execution_count": 109,
   "id": "d3996f29",
   "metadata": {},
   "outputs": [
    {
     "name": "stdout",
     "output_type": "stream",
     "text": [
      "The ('Enterprise', 'Picard') is captained by Sisko.\n",
      "The ('Voyager', 'Janeway') is captained by Sisko.\n",
      "The ('Defiant', 'Sisko') is captained by Sisko.\n"
     ]
    }
   ],
   "source": [
    "#not working\n",
    "for ship in captains.items():\n",
    " print(f\"The {ship} is captained by {captain}.\")"
   ]
  },
  {
   "cell_type": "code",
   "execution_count": 135,
   "id": "56080d36",
   "metadata": {},
   "outputs": [],
   "source": [
    "# question 20\n",
    "remove entry key of discovery\n",
    "captains1 = {\n",
    " \"Enterprise\": \"Picard\",\n",
    " \"Voyager\": \"Janeway\",\n",
    " \"Defiant\": \"Sisko\",\n",
    " \"Discovery\": \"unknown\",\n",
    "}"
   ]
  },
  {
   "cell_type": "code",
   "execution_count": 136,
   "id": "ac273d79",
   "metadata": {},
   "outputs": [
    {
     "data": {
      "text/plain": [
       "dict_keys(['Enterprise', 'Voyager', 'Defiant', 'Discovery'])"
      ]
     },
     "execution_count": 136,
     "metadata": {},
     "output_type": "execute_result"
    }
   ],
   "source": [
    "captains1.keys()"
   ]
  },
  {
   "cell_type": "code",
   "execution_count": 137,
   "id": "e5e08116",
   "metadata": {},
   "outputs": [
    {
     "ename": "KeyError",
     "evalue": "'Discovery'",
     "output_type": "error",
     "traceback": [
      "\u001b[1;31m---------------------------------------------------------------------------\u001b[0m",
      "\u001b[1;31mKeyError\u001b[0m                                  Traceback (most recent call last)",
      "Cell \u001b[1;32mIn[137], line 1\u001b[0m\n\u001b[1;32m----> 1\u001b[0m \u001b[38;5;28;01mdel\u001b[39;00m captains[\u001b[38;5;124m\"\u001b[39m\u001b[38;5;124mDiscovery\u001b[39m\u001b[38;5;124m\"\u001b[39m]\n",
      "\u001b[1;31mKeyError\u001b[0m: 'Discovery'"
     ]
    }
   ],
   "source": [
    "del captains[\"Discovery\"]"
   ]
  },
  {
   "cell_type": "code",
   "execution_count": null,
   "id": "58542584",
   "metadata": {},
   "outputs": [],
   "source": []
  }
 ],
 "metadata": {
  "kernelspec": {
   "display_name": "Python 3 (ipykernel)",
   "language": "python",
   "name": "python3"
  },
  "language_info": {
   "codemirror_mode": {
    "name": "ipython",
    "version": 3
   },
   "file_extension": ".py",
   "mimetype": "text/x-python",
   "name": "python",
   "nbconvert_exporter": "python",
   "pygments_lexer": "ipython3",
   "version": "3.11.5"
  }
 },
 "nbformat": 4,
 "nbformat_minor": 5
}
