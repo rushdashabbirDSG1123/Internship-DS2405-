{
 "cells": [
  {
   "cell_type": "markdown",
   "id": "d8169629",
   "metadata": {},
   "source": [
    "# Internship second Assignment \n",
    "# Regular Expression.regex\n",
    "\n",
    "submitted By Rushda Shabbir\n",
    "\n",
    "batch -DS2405"
   ]
  },
  {
   "cell_type": "code",
   "execution_count": null,
   "id": "1dfa5335",
   "metadata": {},
   "outputs": [],
   "source": []
  },
  {
   "cell_type": "code",
   "execution_count": 1,
   "id": "fb101654",
   "metadata": {},
   "outputs": [],
   "source": [
    "import regex as re\n",
    "import numpy as np\n",
    "import pandas as pd\n"
   ]
  },
  {
   "cell_type": "markdown",
   "id": "00e3f292",
   "metadata": {},
   "source": [
    "# 1 Question "
   ]
  },
  {
   "cell_type": "code",
   "execution_count": 2,
   "id": "059a8642",
   "metadata": {},
   "outputs": [
    {
     "name": "stdout",
     "output_type": "stream",
     "text": [
      "Python:Exercises::PHP:exercises:\n",
      "Python:Exercises::PHP:exercises:\n"
     ]
    }
   ],
   "source": [
    "#Question 1- Write a Python program to replace all occurrences of a space, comma, or dot with a colon.\n",
    "text= 'Python Exercises, PHP exercises.'\n",
    "pattern='[\\s,.]'\n",
    "replace=re.sub(pattern,\":\",text)\n",
    "print(replace)\n",
    "                        \n",
    "                            #or\n",
    "# we can use this also without regex module we can replace it with replace method\n",
    "text = 'Python Exercises, PHP exercises.'\n",
    "rplc= text.replace(' ', ':').replace(',', ':').replace('.', ':')\n",
    "print(rplc)\n",
    "\n"
   ]
  },
  {
   "cell_type": "markdown",
   "id": "8b9cc0ce",
   "metadata": {},
   "source": [
    "# 2 question"
   ]
  },
  {
   "cell_type": "code",
   "execution_count": 3,
   "id": "1b86c837",
   "metadata": {},
   "outputs": [
    {
     "name": "stdout",
     "output_type": "stream",
     "text": [
      "           SUMMARY\n",
      "0     hello world \n",
      "1             test\n",
      "2   four five six \n"
     ]
    }
   ],
   "source": [
    "#Question 2-  Create a dataframe using the dictionary below and remove everything (commas (,), !, XXXX, ;, etc.)\n",
    "#from the columns except words.\n",
    "Dictionary={'SUMMARY' : ['hello, world!', 'XXXXX test', '123four, five:; six...']}\n",
    "Dictionary\n",
    "\n",
    "dict=pd.DataFrame(data=Dictionary)\n",
    "\n",
    "pattern=r'\\W+|\\AX+|\\d+'\n",
    "dict['SUMMARY']=dict['SUMMARY'].str.replace(pattern,' ',regex=True)\n",
    "print(dict)\n",
    "\n",
    " "
   ]
  },
  {
   "cell_type": "code",
   "execution_count": 4,
   "id": "94f33e26",
   "metadata": {},
   "outputs": [
    {
     "name": "stdout",
     "output_type": "stream",
     "text": [
      "           SUMMARY\n",
      "0     hello world \n",
      "1             test\n",
      "2   four five six \n"
     ]
    }
   ],
   "source": [
    "                               #OR we can write like this also\n",
    "Dictionary1={'SUMMARY':['hello, world!', 'XXXXX test', '123four, five:; six...']}\n",
    "\n",
    "dict1=pd.DataFrame(data=Dictionary1)\n",
    "\n",
    "dict1['SUMMARY'] = dict1['SUMMARY'].str.replace(r'(XXXXX|\\d+|\\W+)', ' ',regex=True)\n",
    "print(dict1)\n"
   ]
  },
  {
   "cell_type": "code",
   "execution_count": 5,
   "id": "4314f2da",
   "metadata": {},
   "outputs": [
    {
     "name": "stdout",
     "output_type": "stream",
     "text": [
      "         SUMMARY\n",
      "0    hello world\n",
      "1           test\n",
      "2  four five six\n"
     ]
    }
   ],
   "source": [
    "                                #OR we can write pattern like this also\n",
    "Dictionary3={'SUMMARY':['hello, world!', 'XXXXX test', '123four, five:; six...']}\n",
    "\n",
    "dict3=pd.DataFrame(data=Dictionary3)\n",
    "dict3['SUMMARY'] = dict3['SUMMARY'].str.replace(r'[^\\w\\s]|XXXXX|\\d+', '',regex=True)\n",
    "print(dict3)"
   ]
  },
  {
   "cell_type": "markdown",
   "id": "460d0de9",
   "metadata": {},
   "source": [
    "# 3 question"
   ]
  },
  {
   "cell_type": "code",
   "execution_count": 6,
   "id": "c3dd9f43",
   "metadata": {},
   "outputs": [
    {
     "name": "stdout",
     "output_type": "stream",
     "text": [
      "<class 'str'>\n",
      "<class '_regex.Pattern'>\n",
      "['Bana', 'only', 'very', 'deli', 'ciou', 'piec', 'frui', 'they', 'also', 'supp', 'heal', 'Eati', 'bana', 'wond', 'heal']\n"
     ]
    }
   ],
   "source": [
    "#Question 3- Create a function in python to find all words that are at least 4 characters long in a string.\n",
    "# The use of the re.compile() method is mandatory.\n",
    "pattern='[A-Za-z]{4}'\n",
    "print(type(pattern))\n",
    "\n",
    "object_patern=re.compile(pattern)\n",
    "print(type(object_patern))\n",
    "\n",
    "string='Banana are not only very delicious pieces of fruit. they are also supper healthy.Eating two bananas a day can do wonders for you health'\n",
    "result=object_patern.findall(string)\n",
    "print(result)"
   ]
  },
  {
   "cell_type": "code",
   "execution_count": 7,
   "id": "5b50a62b",
   "metadata": {},
   "outputs": [
    {
     "name": "stdout",
     "output_type": "stream",
     "text": [
      "['Bana', 'only', 'very', 'deli', 'ciou', 'piec', 'frui', 'they', 'also', 'supp', 'heal', 'Eati', 'bana', 'wond', 'heal']\n"
     ]
    }
   ],
   "source": [
    "#OR\n",
    "def four_words(string):\n",
    "    ptrn = r'\\w{4}'\n",
    "    regex = re.compile(ptrn)\n",
    "    result= regex.findall(string)\n",
    "    return result\n",
    "string = 'Banana are not only very delicious pieces of fruit. they are also supper healthy.Eating two bananas a day can do wonders for you health'\n",
    "result1=four_words(string)\n",
    "print(result1)"
   ]
  },
  {
   "cell_type": "markdown",
   "id": "6b11156e",
   "metadata": {},
   "source": [
    "# 4 question"
   ]
  },
  {
   "cell_type": "code",
   "execution_count": 8,
   "id": "08dfb5e8",
   "metadata": {},
   "outputs": [
    {
     "name": "stdout",
     "output_type": "stream",
     "text": [
      "<class 'str'>\n",
      "<class '_regex.Pattern'>\n",
      "['Banan', 'are', 'not', 'only', 'very', 'delic', 'ious', 'piece', 'fruit', 'they', 'are', 'also', 'suppe', 'healt', 'Eatin', 'two', 'banan', 'day', 'can', 'wonde', 'for', 'you', 'healt']\n"
     ]
    }
   ],
   "source": [
    "#Question 4- Create a function in python to find all three, four, and five character words in a string.\n",
    "#The use of the re.compile() method is mandatory.\n",
    "pattern='[A-Za-z]{3,5}'\n",
    "print(type(pattern))\n",
    "\n",
    "object_patern=re.compile(pattern)\n",
    "print(type(object_patern))\n",
    "\n",
    "string='Banana are not only very delicious pieces of fruit. they are also supper healthy.Eating two bananas a day can do wonders for you health'\n",
    "result=object_patern.findall(string)\n",
    "print(result)"
   ]
  },
  {
   "cell_type": "code",
   "execution_count": 9,
   "id": "85a9beac",
   "metadata": {},
   "outputs": [
    {
     "name": "stdout",
     "output_type": "stream",
     "text": [
      "['Banan', 'are', 'not', 'only', 'very', 'delic', 'ious', 'piece', 'fruit', 'they', 'are', 'also', 'suppe', 'healt', 'Eatin', 'two', 'banan', 'day', 'can', 'wonde', 'for', 'your', 'healt']\n"
     ]
    }
   ],
   "source": [
    "                        #OR\n",
    "def words_three_to_five(string):\n",
    "    pattern='\\w{3,5}'\n",
    "    regex_object=re.compile(pattern)\n",
    "    result=regex_object.findall(string)\n",
    "    return result\n",
    "string='Banana are not only very delicious pieces of fruit. they are also supper healthy.Eating two bananas a day can do wonders for your health'\n",
    "result2=words_three_to_five(string)\n",
    "print(result2)"
   ]
  },
  {
   "cell_type": "markdown",
   "id": "2292010a",
   "metadata": {},
   "source": [
    "# 5 question"
   ]
  },
  {
   "cell_type": "code",
   "execution_count": 10,
   "id": "1f63f185",
   "metadata": {},
   "outputs": [
    {
     "name": "stdout",
     "output_type": "stream",
     "text": [
      "<class '_regex.Pattern'>\n",
      "['example .com', 'hr@fliprobo .com', 'github .com', 'Hello Data Science World', 'Data Scientist']\n"
     ]
    }
   ],
   "source": [
    "#Question 5- Create a function in Python to remove the parenthesis in a list of strings. The use of the re.compile() method is mandatory.\n",
    "Sample_Text=[\"example (.com)\", \"hr@fliprobo (.com)\", \"github (.com)\", \"Hello (Data Science World)\", \"Data (Scientist)\"]\n",
    "pattern='[()]' \n",
    "regex_pat=re.compile(pattern)\n",
    "print(type(regex_pat))\n",
    "\n",
    "remove=[regex_pat.sub('',s) for s in Sample_Text]\n",
    "print(remove)\n",
    "\n"
   ]
  },
  {
   "cell_type": "code",
   "execution_count": 11,
   "id": "0ab92fd2",
   "metadata": {},
   "outputs": [
    {
     "name": "stdout",
     "output_type": "stream",
     "text": [
      "<class '_regex.Pattern'>\n",
      "example .com. hr@fliprobo .com .github .com.Hello Data Science World. Data Scientist\n"
     ]
    }
   ],
   "source": [
    "                                                    #OR\n",
    "Sample_Text=\"example (.com). hr@fliprobo (.com) .github (.com).Hello (Data Science World). Data (Scientist)\"\n",
    "pattern='[()]'\n",
    "regex_pat=re.compile(pattern)\n",
    "print(type(regex_pat))\n",
    "\n",
    "remove=regex_pat.sub('',Sample_Text)\n",
    "print(remove)\n"
   ]
  },
  {
   "cell_type": "code",
   "execution_count": 12,
   "id": "ab82edbc",
   "metadata": {},
   "outputs": [
    {
     "name": "stdout",
     "output_type": "stream",
     "text": [
      "['example .com', 'hr@fliprobo .com', 'github .com', 'Hello Data Science World', 'Data Scientist']\n"
     ]
    }
   ],
   "source": [
    "def remove_parentheses(strings):\n",
    "    pattern = '[()]' \n",
    "    regex = re.compile(pattern)\n",
    "    result= [regex.sub('', s) for s in strings]\n",
    "    return result\n",
    "\n",
    "Sample_Text = [\"example (.com)\", \"hr@fliprobo (.com)\", \"github (.com)\", \"Hello (Data Science World)\", \"Data (Scientist)\"]\n",
    "\n",
    "result_text = remove_parentheses(Sample_Text)\n",
    "print(result_text)"
   ]
  },
  {
   "cell_type": "markdown",
   "id": "f83fc657",
   "metadata": {},
   "source": [
    "# 6 question"
   ]
  },
  {
   "cell_type": "code",
   "execution_count": 13,
   "id": "09387d75",
   "metadata": {},
   "outputs": [],
   "source": [
    "#Question 6- Write a python program to remove the parenthesis area from the text stored in the text file using Regular Expression.\n",
    "\n",
    "Sample_Text: [\"example (.com)\", \"hr@fliprobo (.com)\", \"github (.com)\", \"Hello (Data Science World)\", \"Data (Scientist)\"]\n",
    "\n",
    "#Expected Output: [\"example\", \"hr@fliprobo\", \"github\", \"Hello\", \"Data\"]\n",
    "\n",
    "#Note- Store given sample text in the text file and then to remove the parenthesis area from the text\n"
   ]
  },
  {
   "cell_type": "raw",
   "id": "fc521355",
   "metadata": {},
   "source": [
    "file = open(\"myfile_remove_paren.txt\", \"w\")\n",
    "file.write('Sample Text: [\"example (.com)\", \"hr@fliprobo (.com)\", \"github (.com)\", \"Hello (Data Science World)\", \"Data (Scientist)\"]')\n",
    "file.close()"
   ]
  },
  {
   "cell_type": "code",
   "execution_count": 14,
   "id": "5b1fe1b1",
   "metadata": {},
   "outputs": [
    {
     "name": "stdout",
     "output_type": "stream",
     "text": [
      "Sample Text: [\"example .com\", \"hr@fliprobo .com\", \"github .com\", \"Hello Data Science World\", \"Data Scientist\"]\n"
     ]
    }
   ],
   "source": [
    "with open(\"myfile_remove_paren.txt\") as file:\n",
    "    for line in file:\n",
    "        find=re.sub(r'[()]',\"\",line)\n",
    "        print(find)"
   ]
  },
  {
   "cell_type": "code",
   "execution_count": 15,
   "id": "8993eec8",
   "metadata": {},
   "outputs": [
    {
     "name": "stdout",
     "output_type": "stream",
     "text": [
      "Saple Text: [\"exaple \", \"hr@fliprb \", \"github \", \"Hell Data Siene Wrld\", \"Data Sientist\"]\n"
     ]
    }
   ],
   "source": [
    "                                #OR\n",
    "with open(\"myfile_remove_paren.txt\") as file:\n",
    "    for line in file:\n",
    "        find=re.sub(r'[(.com)]',\"\",line)\n",
    "        print(find)"
   ]
  },
  {
   "cell_type": "code",
   "execution_count": 16,
   "id": "28156ece",
   "metadata": {},
   "outputs": [
    {
     "name": "stdout",
     "output_type": "stream",
     "text": [
      "Sample Text: [\"example \", \"hr@fliprobo \", \"github \", \"Hello \", \"Data \"]\n"
     ]
    }
   ],
   "source": [
    "                                #OR also\n",
    "with open(\"myfile_remove_paren.txt\") as file:\n",
    "    for line in file:\n",
    "        modified_line = re.sub(r'\\([^)]*\\)', '', line)\n",
    "        # Print the modified line\n",
    "        print(modified_line)"
   ]
  },
  {
   "cell_type": "markdown",
   "id": "030a72ab",
   "metadata": {},
   "source": [
    "# 7 question"
   ]
  },
  {
   "cell_type": "code",
   "execution_count": 17,
   "id": "cdff9e8e",
   "metadata": {},
   "outputs": [
    {
     "name": "stdout",
     "output_type": "stream",
     "text": [
      "['Importance', 'Of', 'Regular', 'Expressions', 'In', 'Python', '']\n"
     ]
    }
   ],
   "source": [
    "#Question 7- Write a regular expression in Python to split a string into uppercase letters.\n",
    "sample_text = \"ImportanceOfRegularExpressionsInPython\"\n",
    "pattern = '[A-Z]*[a-z]*' \n",
    "result = re.findall(pattern, sample_text)\n",
    "print(result)"
   ]
  },
  {
   "cell_type": "code",
   "execution_count": 18,
   "id": "825c40b3",
   "metadata": {},
   "outputs": [
    {
     "name": "stdout",
     "output_type": "stream",
     "text": [
      "['', 'Importance', 'Of', 'Regular', 'Expressions', 'In', 'Python']\n"
     ]
    }
   ],
   "source": [
    "                    #OR\n",
    "sample_text = \"ImportanceOfRegularExpressionsInPython\"\n",
    "pattern = '(?=[A-Z])'\n",
    "result = re.split(pattern, sample_text)\n",
    "print(result)"
   ]
  },
  {
   "cell_type": "markdown",
   "id": "41b560b4",
   "metadata": {},
   "source": [
    "# 8 question\n"
   ]
  },
  {
   "cell_type": "code",
   "execution_count": 19,
   "id": "8883c918",
   "metadata": {},
   "outputs": [
    {
     "name": "stdout",
     "output_type": "stream",
     "text": [
      "RegularExpression 1IsAn 2ImportantTopic 3InPython\n"
     ]
    }
   ],
   "source": [
    "#Question 8- Create a function in python to insert spaces between words starting with numbers.\n",
    "Sample_Text='RegularExpression1IsAn2ImportantTopic3InPython'\n",
    "pattern='(?=\\d)'\n",
    "match_replace=re.sub(pattern,\" \",Sample_Text)\n",
    "print(match_replace)\n"
   ]
  },
  {
   "cell_type": "markdown",
   "id": "6239a323",
   "metadata": {},
   "source": [
    "# 9 question"
   ]
  },
  {
   "cell_type": "code",
   "execution_count": 20,
   "id": "b9bf9847",
   "metadata": {},
   "outputs": [
    {
     "name": "stdout",
     "output_type": "stream",
     "text": [
      " Regular Expression1 Is An2 Important Topic3 In Python\n"
     ]
    }
   ],
   "source": [
    "#Question 9- Create a function in python to insert spaces between words starting with capital letters or with numbers.\n",
    "Sample_text='RegularExpression1IsAn2ImportantTopic3InPython'\n",
    "pattern='(?=[A-Z])'\n",
    "add_space=re.sub(pattern,' ',Sample_text)\n",
    "print(add_space)\n"
   ]
  },
  {
   "cell_type": "markdown",
   "id": "57d69ceb",
   "metadata": {},
   "source": [
    "# 10 question"
   ]
  },
  {
   "cell_type": "markdown",
   "id": "802d5612",
   "metadata": {},
   "source": [
    "#Question 10- Use the github link below to read the data and create a dataframe. After creating the dataframe extract the first 6 letters of each country and store in the dataframe under a new column called first_five_letters."
   ]
  },
  {
   "cell_type": "code",
   "execution_count": 21,
   "id": "9b9c87be",
   "metadata": {},
   "outputs": [
    {
     "data": {
      "text/html": [
       "<div>\n",
       "<style scoped>\n",
       "    .dataframe tbody tr th:only-of-type {\n",
       "        vertical-align: middle;\n",
       "    }\n",
       "\n",
       "    .dataframe tbody tr th {\n",
       "        vertical-align: top;\n",
       "    }\n",
       "\n",
       "    .dataframe thead th {\n",
       "        text-align: right;\n",
       "    }\n",
       "</style>\n",
       "<table border=\"1\" class=\"dataframe\">\n",
       "  <thead>\n",
       "    <tr style=\"text-align: right;\">\n",
       "      <th></th>\n",
       "      <th>Country</th>\n",
       "      <th>Region</th>\n",
       "      <th>Happiness Rank</th>\n",
       "      <th>Happiness Score</th>\n",
       "      <th>Standard Error</th>\n",
       "      <th>Economy (GDP per Capita)</th>\n",
       "      <th>Family</th>\n",
       "      <th>Health (Life Expectancy)</th>\n",
       "      <th>Freedom</th>\n",
       "      <th>Trust (Government Corruption)</th>\n",
       "      <th>Generosity</th>\n",
       "      <th>Dystopia Residual</th>\n",
       "    </tr>\n",
       "  </thead>\n",
       "  <tbody>\n",
       "    <tr>\n",
       "      <th>0</th>\n",
       "      <td>Switzerland</td>\n",
       "      <td>Western Europe</td>\n",
       "      <td>1</td>\n",
       "      <td>7.587</td>\n",
       "      <td>0.03411</td>\n",
       "      <td>1.39651</td>\n",
       "      <td>1.34951</td>\n",
       "      <td>0.94143</td>\n",
       "      <td>0.66557</td>\n",
       "      <td>0.41978</td>\n",
       "      <td>0.29678</td>\n",
       "      <td>2.51738</td>\n",
       "    </tr>\n",
       "    <tr>\n",
       "      <th>1</th>\n",
       "      <td>Iceland</td>\n",
       "      <td>Western Europe</td>\n",
       "      <td>2</td>\n",
       "      <td>7.561</td>\n",
       "      <td>0.04884</td>\n",
       "      <td>1.30232</td>\n",
       "      <td>1.40223</td>\n",
       "      <td>0.94784</td>\n",
       "      <td>0.62877</td>\n",
       "      <td>0.14145</td>\n",
       "      <td>0.43630</td>\n",
       "      <td>2.70201</td>\n",
       "    </tr>\n",
       "    <tr>\n",
       "      <th>2</th>\n",
       "      <td>Denmark</td>\n",
       "      <td>Western Europe</td>\n",
       "      <td>3</td>\n",
       "      <td>7.527</td>\n",
       "      <td>0.03328</td>\n",
       "      <td>1.32548</td>\n",
       "      <td>1.36058</td>\n",
       "      <td>0.87464</td>\n",
       "      <td>0.64938</td>\n",
       "      <td>0.48357</td>\n",
       "      <td>0.34139</td>\n",
       "      <td>2.49204</td>\n",
       "    </tr>\n",
       "    <tr>\n",
       "      <th>3</th>\n",
       "      <td>Norway</td>\n",
       "      <td>Western Europe</td>\n",
       "      <td>4</td>\n",
       "      <td>7.522</td>\n",
       "      <td>0.03880</td>\n",
       "      <td>1.45900</td>\n",
       "      <td>1.33095</td>\n",
       "      <td>0.88521</td>\n",
       "      <td>0.66973</td>\n",
       "      <td>0.36503</td>\n",
       "      <td>0.34699</td>\n",
       "      <td>2.46531</td>\n",
       "    </tr>\n",
       "    <tr>\n",
       "      <th>4</th>\n",
       "      <td>Canada</td>\n",
       "      <td>North America</td>\n",
       "      <td>5</td>\n",
       "      <td>7.427</td>\n",
       "      <td>0.03553</td>\n",
       "      <td>1.32629</td>\n",
       "      <td>1.32261</td>\n",
       "      <td>0.90563</td>\n",
       "      <td>0.63297</td>\n",
       "      <td>0.32957</td>\n",
       "      <td>0.45811</td>\n",
       "      <td>2.45176</td>\n",
       "    </tr>\n",
       "    <tr>\n",
       "      <th>...</th>\n",
       "      <td>...</td>\n",
       "      <td>...</td>\n",
       "      <td>...</td>\n",
       "      <td>...</td>\n",
       "      <td>...</td>\n",
       "      <td>...</td>\n",
       "      <td>...</td>\n",
       "      <td>...</td>\n",
       "      <td>...</td>\n",
       "      <td>...</td>\n",
       "      <td>...</td>\n",
       "      <td>...</td>\n",
       "    </tr>\n",
       "    <tr>\n",
       "      <th>153</th>\n",
       "      <td>Rwanda</td>\n",
       "      <td>Sub-Saharan Africa</td>\n",
       "      <td>154</td>\n",
       "      <td>3.465</td>\n",
       "      <td>0.03464</td>\n",
       "      <td>0.22208</td>\n",
       "      <td>0.77370</td>\n",
       "      <td>0.42864</td>\n",
       "      <td>0.59201</td>\n",
       "      <td>0.55191</td>\n",
       "      <td>0.22628</td>\n",
       "      <td>0.67042</td>\n",
       "    </tr>\n",
       "    <tr>\n",
       "      <th>154</th>\n",
       "      <td>Benin</td>\n",
       "      <td>Sub-Saharan Africa</td>\n",
       "      <td>155</td>\n",
       "      <td>3.340</td>\n",
       "      <td>0.03656</td>\n",
       "      <td>0.28665</td>\n",
       "      <td>0.35386</td>\n",
       "      <td>0.31910</td>\n",
       "      <td>0.48450</td>\n",
       "      <td>0.08010</td>\n",
       "      <td>0.18260</td>\n",
       "      <td>1.63328</td>\n",
       "    </tr>\n",
       "    <tr>\n",
       "      <th>155</th>\n",
       "      <td>Syria</td>\n",
       "      <td>Middle East and Northern Africa</td>\n",
       "      <td>156</td>\n",
       "      <td>3.006</td>\n",
       "      <td>0.05015</td>\n",
       "      <td>0.66320</td>\n",
       "      <td>0.47489</td>\n",
       "      <td>0.72193</td>\n",
       "      <td>0.15684</td>\n",
       "      <td>0.18906</td>\n",
       "      <td>0.47179</td>\n",
       "      <td>0.32858</td>\n",
       "    </tr>\n",
       "    <tr>\n",
       "      <th>156</th>\n",
       "      <td>Burundi</td>\n",
       "      <td>Sub-Saharan Africa</td>\n",
       "      <td>157</td>\n",
       "      <td>2.905</td>\n",
       "      <td>0.08658</td>\n",
       "      <td>0.01530</td>\n",
       "      <td>0.41587</td>\n",
       "      <td>0.22396</td>\n",
       "      <td>0.11850</td>\n",
       "      <td>0.10062</td>\n",
       "      <td>0.19727</td>\n",
       "      <td>1.83302</td>\n",
       "    </tr>\n",
       "    <tr>\n",
       "      <th>157</th>\n",
       "      <td>Togo</td>\n",
       "      <td>Sub-Saharan Africa</td>\n",
       "      <td>158</td>\n",
       "      <td>2.839</td>\n",
       "      <td>0.06727</td>\n",
       "      <td>0.20868</td>\n",
       "      <td>0.13995</td>\n",
       "      <td>0.28443</td>\n",
       "      <td>0.36453</td>\n",
       "      <td>0.10731</td>\n",
       "      <td>0.16681</td>\n",
       "      <td>1.56726</td>\n",
       "    </tr>\n",
       "  </tbody>\n",
       "</table>\n",
       "<p>158 rows × 12 columns</p>\n",
       "</div>"
      ],
      "text/plain": [
       "         Country                           Region  Happiness Rank  \\\n",
       "0    Switzerland                   Western Europe               1   \n",
       "1        Iceland                   Western Europe               2   \n",
       "2        Denmark                   Western Europe               3   \n",
       "3         Norway                   Western Europe               4   \n",
       "4         Canada                    North America               5   \n",
       "..           ...                              ...             ...   \n",
       "153       Rwanda               Sub-Saharan Africa             154   \n",
       "154        Benin               Sub-Saharan Africa             155   \n",
       "155        Syria  Middle East and Northern Africa             156   \n",
       "156      Burundi               Sub-Saharan Africa             157   \n",
       "157         Togo               Sub-Saharan Africa             158   \n",
       "\n",
       "     Happiness Score  Standard Error  Economy (GDP per Capita)   Family  \\\n",
       "0              7.587         0.03411                   1.39651  1.34951   \n",
       "1              7.561         0.04884                   1.30232  1.40223   \n",
       "2              7.527         0.03328                   1.32548  1.36058   \n",
       "3              7.522         0.03880                   1.45900  1.33095   \n",
       "4              7.427         0.03553                   1.32629  1.32261   \n",
       "..               ...             ...                       ...      ...   \n",
       "153            3.465         0.03464                   0.22208  0.77370   \n",
       "154            3.340         0.03656                   0.28665  0.35386   \n",
       "155            3.006         0.05015                   0.66320  0.47489   \n",
       "156            2.905         0.08658                   0.01530  0.41587   \n",
       "157            2.839         0.06727                   0.20868  0.13995   \n",
       "\n",
       "     Health (Life Expectancy)  Freedom  Trust (Government Corruption)  \\\n",
       "0                     0.94143  0.66557                        0.41978   \n",
       "1                     0.94784  0.62877                        0.14145   \n",
       "2                     0.87464  0.64938                        0.48357   \n",
       "3                     0.88521  0.66973                        0.36503   \n",
       "4                     0.90563  0.63297                        0.32957   \n",
       "..                        ...      ...                            ...   \n",
       "153                   0.42864  0.59201                        0.55191   \n",
       "154                   0.31910  0.48450                        0.08010   \n",
       "155                   0.72193  0.15684                        0.18906   \n",
       "156                   0.22396  0.11850                        0.10062   \n",
       "157                   0.28443  0.36453                        0.10731   \n",
       "\n",
       "     Generosity  Dystopia Residual  \n",
       "0       0.29678            2.51738  \n",
       "1       0.43630            2.70201  \n",
       "2       0.34139            2.49204  \n",
       "3       0.34699            2.46531  \n",
       "4       0.45811            2.45176  \n",
       "..          ...                ...  \n",
       "153     0.22628            0.67042  \n",
       "154     0.18260            1.63328  \n",
       "155     0.47179            0.32858  \n",
       "156     0.19727            1.83302  \n",
       "157     0.16681            1.56726  \n",
       "\n",
       "[158 rows x 12 columns]"
      ]
     },
     "execution_count": 21,
     "metadata": {},
     "output_type": "execute_result"
    }
   ],
   "source": [
    "url='https://raw.githubusercontent.com/dsrscientist/DSData/master/happiness_score_dataset.csv'\n",
    "df=pd.read_csv(url)\n",
    "df"
   ]
  },
  {
   "cell_type": "code",
   "execution_count": 22,
   "id": "60affe5c",
   "metadata": {},
   "outputs": [
    {
     "data": {
      "text/html": [
       "<div>\n",
       "<style scoped>\n",
       "    .dataframe tbody tr th:only-of-type {\n",
       "        vertical-align: middle;\n",
       "    }\n",
       "\n",
       "    .dataframe tbody tr th {\n",
       "        vertical-align: top;\n",
       "    }\n",
       "\n",
       "    .dataframe thead th {\n",
       "        text-align: right;\n",
       "    }\n",
       "</style>\n",
       "<table border=\"1\" class=\"dataframe\">\n",
       "  <thead>\n",
       "    <tr style=\"text-align: right;\">\n",
       "      <th></th>\n",
       "      <th>Country</th>\n",
       "      <th>Region</th>\n",
       "      <th>Happiness Rank</th>\n",
       "      <th>Happiness Score</th>\n",
       "      <th>Standard Error</th>\n",
       "      <th>Economy (GDP per Capita)</th>\n",
       "      <th>Family</th>\n",
       "      <th>Health (Life Expectancy)</th>\n",
       "      <th>Freedom</th>\n",
       "      <th>Trust (Government Corruption)</th>\n",
       "      <th>Generosity</th>\n",
       "      <th>Dystopia Residual</th>\n",
       "    </tr>\n",
       "  </thead>\n",
       "  <tbody>\n",
       "    <tr>\n",
       "      <th>0</th>\n",
       "      <td>Switzerland</td>\n",
       "      <td>Western Europe</td>\n",
       "      <td>1</td>\n",
       "      <td>7.587</td>\n",
       "      <td>0.03411</td>\n",
       "      <td>1.39651</td>\n",
       "      <td>1.34951</td>\n",
       "      <td>0.94143</td>\n",
       "      <td>0.66557</td>\n",
       "      <td>0.41978</td>\n",
       "      <td>0.29678</td>\n",
       "      <td>2.51738</td>\n",
       "    </tr>\n",
       "    <tr>\n",
       "      <th>1</th>\n",
       "      <td>Iceland</td>\n",
       "      <td>Western Europe</td>\n",
       "      <td>2</td>\n",
       "      <td>7.561</td>\n",
       "      <td>0.04884</td>\n",
       "      <td>1.30232</td>\n",
       "      <td>1.40223</td>\n",
       "      <td>0.94784</td>\n",
       "      <td>0.62877</td>\n",
       "      <td>0.14145</td>\n",
       "      <td>0.43630</td>\n",
       "      <td>2.70201</td>\n",
       "    </tr>\n",
       "    <tr>\n",
       "      <th>2</th>\n",
       "      <td>Denmark</td>\n",
       "      <td>Western Europe</td>\n",
       "      <td>3</td>\n",
       "      <td>7.527</td>\n",
       "      <td>0.03328</td>\n",
       "      <td>1.32548</td>\n",
       "      <td>1.36058</td>\n",
       "      <td>0.87464</td>\n",
       "      <td>0.64938</td>\n",
       "      <td>0.48357</td>\n",
       "      <td>0.34139</td>\n",
       "      <td>2.49204</td>\n",
       "    </tr>\n",
       "    <tr>\n",
       "      <th>3</th>\n",
       "      <td>Norway</td>\n",
       "      <td>Western Europe</td>\n",
       "      <td>4</td>\n",
       "      <td>7.522</td>\n",
       "      <td>0.03880</td>\n",
       "      <td>1.45900</td>\n",
       "      <td>1.33095</td>\n",
       "      <td>0.88521</td>\n",
       "      <td>0.66973</td>\n",
       "      <td>0.36503</td>\n",
       "      <td>0.34699</td>\n",
       "      <td>2.46531</td>\n",
       "    </tr>\n",
       "    <tr>\n",
       "      <th>4</th>\n",
       "      <td>Canada</td>\n",
       "      <td>North America</td>\n",
       "      <td>5</td>\n",
       "      <td>7.427</td>\n",
       "      <td>0.03553</td>\n",
       "      <td>1.32629</td>\n",
       "      <td>1.32261</td>\n",
       "      <td>0.90563</td>\n",
       "      <td>0.63297</td>\n",
       "      <td>0.32957</td>\n",
       "      <td>0.45811</td>\n",
       "      <td>2.45176</td>\n",
       "    </tr>\n",
       "    <tr>\n",
       "      <th>...</th>\n",
       "      <td>...</td>\n",
       "      <td>...</td>\n",
       "      <td>...</td>\n",
       "      <td>...</td>\n",
       "      <td>...</td>\n",
       "      <td>...</td>\n",
       "      <td>...</td>\n",
       "      <td>...</td>\n",
       "      <td>...</td>\n",
       "      <td>...</td>\n",
       "      <td>...</td>\n",
       "      <td>...</td>\n",
       "    </tr>\n",
       "    <tr>\n",
       "      <th>153</th>\n",
       "      <td>Rwanda</td>\n",
       "      <td>Sub-Saharan Africa</td>\n",
       "      <td>154</td>\n",
       "      <td>3.465</td>\n",
       "      <td>0.03464</td>\n",
       "      <td>0.22208</td>\n",
       "      <td>0.77370</td>\n",
       "      <td>0.42864</td>\n",
       "      <td>0.59201</td>\n",
       "      <td>0.55191</td>\n",
       "      <td>0.22628</td>\n",
       "      <td>0.67042</td>\n",
       "    </tr>\n",
       "    <tr>\n",
       "      <th>154</th>\n",
       "      <td>Benin</td>\n",
       "      <td>Sub-Saharan Africa</td>\n",
       "      <td>155</td>\n",
       "      <td>3.340</td>\n",
       "      <td>0.03656</td>\n",
       "      <td>0.28665</td>\n",
       "      <td>0.35386</td>\n",
       "      <td>0.31910</td>\n",
       "      <td>0.48450</td>\n",
       "      <td>0.08010</td>\n",
       "      <td>0.18260</td>\n",
       "      <td>1.63328</td>\n",
       "    </tr>\n",
       "    <tr>\n",
       "      <th>155</th>\n",
       "      <td>Syria</td>\n",
       "      <td>Middle East and Northern Africa</td>\n",
       "      <td>156</td>\n",
       "      <td>3.006</td>\n",
       "      <td>0.05015</td>\n",
       "      <td>0.66320</td>\n",
       "      <td>0.47489</td>\n",
       "      <td>0.72193</td>\n",
       "      <td>0.15684</td>\n",
       "      <td>0.18906</td>\n",
       "      <td>0.47179</td>\n",
       "      <td>0.32858</td>\n",
       "    </tr>\n",
       "    <tr>\n",
       "      <th>156</th>\n",
       "      <td>Burundi</td>\n",
       "      <td>Sub-Saharan Africa</td>\n",
       "      <td>157</td>\n",
       "      <td>2.905</td>\n",
       "      <td>0.08658</td>\n",
       "      <td>0.01530</td>\n",
       "      <td>0.41587</td>\n",
       "      <td>0.22396</td>\n",
       "      <td>0.11850</td>\n",
       "      <td>0.10062</td>\n",
       "      <td>0.19727</td>\n",
       "      <td>1.83302</td>\n",
       "    </tr>\n",
       "    <tr>\n",
       "      <th>157</th>\n",
       "      <td>Togo</td>\n",
       "      <td>Sub-Saharan Africa</td>\n",
       "      <td>158</td>\n",
       "      <td>2.839</td>\n",
       "      <td>0.06727</td>\n",
       "      <td>0.20868</td>\n",
       "      <td>0.13995</td>\n",
       "      <td>0.28443</td>\n",
       "      <td>0.36453</td>\n",
       "      <td>0.10731</td>\n",
       "      <td>0.16681</td>\n",
       "      <td>1.56726</td>\n",
       "    </tr>\n",
       "  </tbody>\n",
       "</table>\n",
       "<p>158 rows × 12 columns</p>\n",
       "</div>"
      ],
      "text/plain": [
       "         Country                           Region  Happiness Rank  \\\n",
       "0    Switzerland                   Western Europe               1   \n",
       "1        Iceland                   Western Europe               2   \n",
       "2        Denmark                   Western Europe               3   \n",
       "3         Norway                   Western Europe               4   \n",
       "4         Canada                    North America               5   \n",
       "..           ...                              ...             ...   \n",
       "153       Rwanda               Sub-Saharan Africa             154   \n",
       "154        Benin               Sub-Saharan Africa             155   \n",
       "155        Syria  Middle East and Northern Africa             156   \n",
       "156      Burundi               Sub-Saharan Africa             157   \n",
       "157         Togo               Sub-Saharan Africa             158   \n",
       "\n",
       "     Happiness Score  Standard Error  Economy (GDP per Capita)   Family  \\\n",
       "0              7.587         0.03411                   1.39651  1.34951   \n",
       "1              7.561         0.04884                   1.30232  1.40223   \n",
       "2              7.527         0.03328                   1.32548  1.36058   \n",
       "3              7.522         0.03880                   1.45900  1.33095   \n",
       "4              7.427         0.03553                   1.32629  1.32261   \n",
       "..               ...             ...                       ...      ...   \n",
       "153            3.465         0.03464                   0.22208  0.77370   \n",
       "154            3.340         0.03656                   0.28665  0.35386   \n",
       "155            3.006         0.05015                   0.66320  0.47489   \n",
       "156            2.905         0.08658                   0.01530  0.41587   \n",
       "157            2.839         0.06727                   0.20868  0.13995   \n",
       "\n",
       "     Health (Life Expectancy)  Freedom  Trust (Government Corruption)  \\\n",
       "0                     0.94143  0.66557                        0.41978   \n",
       "1                     0.94784  0.62877                        0.14145   \n",
       "2                     0.87464  0.64938                        0.48357   \n",
       "3                     0.88521  0.66973                        0.36503   \n",
       "4                     0.90563  0.63297                        0.32957   \n",
       "..                        ...      ...                            ...   \n",
       "153                   0.42864  0.59201                        0.55191   \n",
       "154                   0.31910  0.48450                        0.08010   \n",
       "155                   0.72193  0.15684                        0.18906   \n",
       "156                   0.22396  0.11850                        0.10062   \n",
       "157                   0.28443  0.36453                        0.10731   \n",
       "\n",
       "     Generosity  Dystopia Residual  \n",
       "0       0.29678            2.51738  \n",
       "1       0.43630            2.70201  \n",
       "2       0.34139            2.49204  \n",
       "3       0.34699            2.46531  \n",
       "4       0.45811            2.45176  \n",
       "..          ...                ...  \n",
       "153     0.22628            0.67042  \n",
       "154     0.18260            1.63328  \n",
       "155     0.47179            0.32858  \n",
       "156     0.19727            1.83302  \n",
       "157     0.16681            1.56726  \n",
       "\n",
       "[158 rows x 12 columns]"
      ]
     },
     "execution_count": 22,
     "metadata": {},
     "output_type": "execute_result"
    }
   ],
   "source": [
    "# here convert intio data frame\n",
    "df=pd.DataFrame(data=df)\n",
    "df"
   ]
  },
  {
   "cell_type": "code",
   "execution_count": 23,
   "id": "c580791e",
   "metadata": {},
   "outputs": [
    {
     "data": {
      "text/plain": [
       "Country                           object\n",
       "Region                            object\n",
       "Happiness Rank                     int64\n",
       "Happiness Score                  float64\n",
       "Standard Error                   float64\n",
       "Economy (GDP per Capita)         float64\n",
       "Family                           float64\n",
       "Health (Life Expectancy)         float64\n",
       "Freedom                          float64\n",
       "Trust (Government Corruption)    float64\n",
       "Generosity                       float64\n",
       "Dystopia Residual                float64\n",
       "dtype: object"
      ]
     },
     "execution_count": 23,
     "metadata": {},
     "output_type": "execute_result"
    }
   ],
   "source": [
    "#check data type\n",
    "df.dtypes"
   ]
  },
  {
   "cell_type": "code",
   "execution_count": 24,
   "id": "b43e286d",
   "metadata": {},
   "outputs": [
    {
     "data": {
      "text/plain": [
       "Country                          0\n",
       "Region                           0\n",
       "Happiness Rank                   0\n",
       "Happiness Score                  0\n",
       "Standard Error                   0\n",
       "Economy (GDP per Capita)         0\n",
       "Family                           0\n",
       "Health (Life Expectancy)         0\n",
       "Freedom                          0\n",
       "Trust (Government Corruption)    0\n",
       "Generosity                       0\n",
       "Dystopia Residual                0\n",
       "dtype: int64"
      ]
     },
     "execution_count": 24,
     "metadata": {},
     "output_type": "execute_result"
    }
   ],
   "source": [
    "df.isnull().sum()"
   ]
  },
  {
   "cell_type": "code",
   "execution_count": 25,
   "id": "a1eaf071",
   "metadata": {},
   "outputs": [
    {
     "data": {
      "text/html": [
       "<div>\n",
       "<style scoped>\n",
       "    .dataframe tbody tr th:only-of-type {\n",
       "        vertical-align: middle;\n",
       "    }\n",
       "\n",
       "    .dataframe tbody tr th {\n",
       "        vertical-align: top;\n",
       "    }\n",
       "\n",
       "    .dataframe thead th {\n",
       "        text-align: right;\n",
       "    }\n",
       "</style>\n",
       "<table border=\"1\" class=\"dataframe\">\n",
       "  <thead>\n",
       "    <tr style=\"text-align: right;\">\n",
       "      <th></th>\n",
       "      <th>first_five_letters</th>\n",
       "    </tr>\n",
       "  </thead>\n",
       "  <tbody>\n",
       "    <tr>\n",
       "      <th>0</th>\n",
       "      <td>Switze</td>\n",
       "    </tr>\n",
       "    <tr>\n",
       "      <th>1</th>\n",
       "      <td>Icelan</td>\n",
       "    </tr>\n",
       "    <tr>\n",
       "      <th>2</th>\n",
       "      <td>Denmar</td>\n",
       "    </tr>\n",
       "    <tr>\n",
       "      <th>3</th>\n",
       "      <td>Norway</td>\n",
       "    </tr>\n",
       "    <tr>\n",
       "      <th>4</th>\n",
       "      <td>Canada</td>\n",
       "    </tr>\n",
       "    <tr>\n",
       "      <th>...</th>\n",
       "      <td>...</td>\n",
       "    </tr>\n",
       "    <tr>\n",
       "      <th>153</th>\n",
       "      <td>Rwanda</td>\n",
       "    </tr>\n",
       "    <tr>\n",
       "      <th>154</th>\n",
       "      <td>NaN</td>\n",
       "    </tr>\n",
       "    <tr>\n",
       "      <th>155</th>\n",
       "      <td>NaN</td>\n",
       "    </tr>\n",
       "    <tr>\n",
       "      <th>156</th>\n",
       "      <td>Burund</td>\n",
       "    </tr>\n",
       "    <tr>\n",
       "      <th>157</th>\n",
       "      <td>NaN</td>\n",
       "    </tr>\n",
       "  </tbody>\n",
       "</table>\n",
       "<p>158 rows × 1 columns</p>\n",
       "</div>"
      ],
      "text/plain": [
       "    first_five_letters\n",
       "0               Switze\n",
       "1               Icelan\n",
       "2               Denmar\n",
       "3               Norway\n",
       "4               Canada\n",
       "..                 ...\n",
       "153             Rwanda\n",
       "154                NaN\n",
       "155                NaN\n",
       "156             Burund\n",
       "157                NaN\n",
       "\n",
       "[158 rows x 1 columns]"
      ]
     },
     "execution_count": 25,
     "metadata": {},
     "output_type": "execute_result"
    }
   ],
   "source": [
    "#here search which is mention in question extract 6 1st laters\n",
    "#here change the name of the 0th column by using rename method\n",
    "pattern='^([A-Za-z]{6})' \n",
    "a=df['Country'].str.extract(pattern)\n",
    "a = a.rename(columns={0: 'first_five_letters'})\n",
    "a"
   ]
  },
  {
   "cell_type": "code",
   "execution_count": 26,
   "id": "9c102ad4",
   "metadata": {},
   "outputs": [
    {
     "data": {
      "text/html": [
       "<div>\n",
       "<style scoped>\n",
       "    .dataframe tbody tr th:only-of-type {\n",
       "        vertical-align: middle;\n",
       "    }\n",
       "\n",
       "    .dataframe tbody tr th {\n",
       "        vertical-align: top;\n",
       "    }\n",
       "\n",
       "    .dataframe thead th {\n",
       "        text-align: right;\n",
       "    }\n",
       "</style>\n",
       "<table border=\"1\" class=\"dataframe\">\n",
       "  <thead>\n",
       "    <tr style=\"text-align: right;\">\n",
       "      <th></th>\n",
       "      <th>Country</th>\n",
       "      <th>Region</th>\n",
       "      <th>Happiness Rank</th>\n",
       "      <th>Happiness Score</th>\n",
       "      <th>Standard Error</th>\n",
       "      <th>Economy (GDP per Capita)</th>\n",
       "      <th>Family</th>\n",
       "      <th>Health (Life Expectancy)</th>\n",
       "      <th>Freedom</th>\n",
       "      <th>Trust (Government Corruption)</th>\n",
       "      <th>Generosity</th>\n",
       "      <th>Dystopia Residual</th>\n",
       "      <th>first_five_later</th>\n",
       "    </tr>\n",
       "  </thead>\n",
       "  <tbody>\n",
       "    <tr>\n",
       "      <th>0</th>\n",
       "      <td>Switzerland</td>\n",
       "      <td>Western Europe</td>\n",
       "      <td>1</td>\n",
       "      <td>7.587</td>\n",
       "      <td>0.03411</td>\n",
       "      <td>1.39651</td>\n",
       "      <td>1.34951</td>\n",
       "      <td>0.94143</td>\n",
       "      <td>0.66557</td>\n",
       "      <td>0.41978</td>\n",
       "      <td>0.29678</td>\n",
       "      <td>2.51738</td>\n",
       "      <td>Switze</td>\n",
       "    </tr>\n",
       "    <tr>\n",
       "      <th>1</th>\n",
       "      <td>Iceland</td>\n",
       "      <td>Western Europe</td>\n",
       "      <td>2</td>\n",
       "      <td>7.561</td>\n",
       "      <td>0.04884</td>\n",
       "      <td>1.30232</td>\n",
       "      <td>1.40223</td>\n",
       "      <td>0.94784</td>\n",
       "      <td>0.62877</td>\n",
       "      <td>0.14145</td>\n",
       "      <td>0.43630</td>\n",
       "      <td>2.70201</td>\n",
       "      <td>Icelan</td>\n",
       "    </tr>\n",
       "    <tr>\n",
       "      <th>2</th>\n",
       "      <td>Denmark</td>\n",
       "      <td>Western Europe</td>\n",
       "      <td>3</td>\n",
       "      <td>7.527</td>\n",
       "      <td>0.03328</td>\n",
       "      <td>1.32548</td>\n",
       "      <td>1.36058</td>\n",
       "      <td>0.87464</td>\n",
       "      <td>0.64938</td>\n",
       "      <td>0.48357</td>\n",
       "      <td>0.34139</td>\n",
       "      <td>2.49204</td>\n",
       "      <td>Denmar</td>\n",
       "    </tr>\n",
       "    <tr>\n",
       "      <th>3</th>\n",
       "      <td>Norway</td>\n",
       "      <td>Western Europe</td>\n",
       "      <td>4</td>\n",
       "      <td>7.522</td>\n",
       "      <td>0.03880</td>\n",
       "      <td>1.45900</td>\n",
       "      <td>1.33095</td>\n",
       "      <td>0.88521</td>\n",
       "      <td>0.66973</td>\n",
       "      <td>0.36503</td>\n",
       "      <td>0.34699</td>\n",
       "      <td>2.46531</td>\n",
       "      <td>Norway</td>\n",
       "    </tr>\n",
       "    <tr>\n",
       "      <th>4</th>\n",
       "      <td>Canada</td>\n",
       "      <td>North America</td>\n",
       "      <td>5</td>\n",
       "      <td>7.427</td>\n",
       "      <td>0.03553</td>\n",
       "      <td>1.32629</td>\n",
       "      <td>1.32261</td>\n",
       "      <td>0.90563</td>\n",
       "      <td>0.63297</td>\n",
       "      <td>0.32957</td>\n",
       "      <td>0.45811</td>\n",
       "      <td>2.45176</td>\n",
       "      <td>Canada</td>\n",
       "    </tr>\n",
       "    <tr>\n",
       "      <th>...</th>\n",
       "      <td>...</td>\n",
       "      <td>...</td>\n",
       "      <td>...</td>\n",
       "      <td>...</td>\n",
       "      <td>...</td>\n",
       "      <td>...</td>\n",
       "      <td>...</td>\n",
       "      <td>...</td>\n",
       "      <td>...</td>\n",
       "      <td>...</td>\n",
       "      <td>...</td>\n",
       "      <td>...</td>\n",
       "      <td>...</td>\n",
       "    </tr>\n",
       "    <tr>\n",
       "      <th>153</th>\n",
       "      <td>Rwanda</td>\n",
       "      <td>Sub-Saharan Africa</td>\n",
       "      <td>154</td>\n",
       "      <td>3.465</td>\n",
       "      <td>0.03464</td>\n",
       "      <td>0.22208</td>\n",
       "      <td>0.77370</td>\n",
       "      <td>0.42864</td>\n",
       "      <td>0.59201</td>\n",
       "      <td>0.55191</td>\n",
       "      <td>0.22628</td>\n",
       "      <td>0.67042</td>\n",
       "      <td>Rwanda</td>\n",
       "    </tr>\n",
       "    <tr>\n",
       "      <th>154</th>\n",
       "      <td>Benin</td>\n",
       "      <td>Sub-Saharan Africa</td>\n",
       "      <td>155</td>\n",
       "      <td>3.340</td>\n",
       "      <td>0.03656</td>\n",
       "      <td>0.28665</td>\n",
       "      <td>0.35386</td>\n",
       "      <td>0.31910</td>\n",
       "      <td>0.48450</td>\n",
       "      <td>0.08010</td>\n",
       "      <td>0.18260</td>\n",
       "      <td>1.63328</td>\n",
       "      <td>NaN</td>\n",
       "    </tr>\n",
       "    <tr>\n",
       "      <th>155</th>\n",
       "      <td>Syria</td>\n",
       "      <td>Middle East and Northern Africa</td>\n",
       "      <td>156</td>\n",
       "      <td>3.006</td>\n",
       "      <td>0.05015</td>\n",
       "      <td>0.66320</td>\n",
       "      <td>0.47489</td>\n",
       "      <td>0.72193</td>\n",
       "      <td>0.15684</td>\n",
       "      <td>0.18906</td>\n",
       "      <td>0.47179</td>\n",
       "      <td>0.32858</td>\n",
       "      <td>NaN</td>\n",
       "    </tr>\n",
       "    <tr>\n",
       "      <th>156</th>\n",
       "      <td>Burundi</td>\n",
       "      <td>Sub-Saharan Africa</td>\n",
       "      <td>157</td>\n",
       "      <td>2.905</td>\n",
       "      <td>0.08658</td>\n",
       "      <td>0.01530</td>\n",
       "      <td>0.41587</td>\n",
       "      <td>0.22396</td>\n",
       "      <td>0.11850</td>\n",
       "      <td>0.10062</td>\n",
       "      <td>0.19727</td>\n",
       "      <td>1.83302</td>\n",
       "      <td>Burund</td>\n",
       "    </tr>\n",
       "    <tr>\n",
       "      <th>157</th>\n",
       "      <td>Togo</td>\n",
       "      <td>Sub-Saharan Africa</td>\n",
       "      <td>158</td>\n",
       "      <td>2.839</td>\n",
       "      <td>0.06727</td>\n",
       "      <td>0.20868</td>\n",
       "      <td>0.13995</td>\n",
       "      <td>0.28443</td>\n",
       "      <td>0.36453</td>\n",
       "      <td>0.10731</td>\n",
       "      <td>0.16681</td>\n",
       "      <td>1.56726</td>\n",
       "      <td>NaN</td>\n",
       "    </tr>\n",
       "  </tbody>\n",
       "</table>\n",
       "<p>158 rows × 13 columns</p>\n",
       "</div>"
      ],
      "text/plain": [
       "         Country                           Region  Happiness Rank  \\\n",
       "0    Switzerland                   Western Europe               1   \n",
       "1        Iceland                   Western Europe               2   \n",
       "2        Denmark                   Western Europe               3   \n",
       "3         Norway                   Western Europe               4   \n",
       "4         Canada                    North America               5   \n",
       "..           ...                              ...             ...   \n",
       "153       Rwanda               Sub-Saharan Africa             154   \n",
       "154        Benin               Sub-Saharan Africa             155   \n",
       "155        Syria  Middle East and Northern Africa             156   \n",
       "156      Burundi               Sub-Saharan Africa             157   \n",
       "157         Togo               Sub-Saharan Africa             158   \n",
       "\n",
       "     Happiness Score  Standard Error  Economy (GDP per Capita)   Family  \\\n",
       "0              7.587         0.03411                   1.39651  1.34951   \n",
       "1              7.561         0.04884                   1.30232  1.40223   \n",
       "2              7.527         0.03328                   1.32548  1.36058   \n",
       "3              7.522         0.03880                   1.45900  1.33095   \n",
       "4              7.427         0.03553                   1.32629  1.32261   \n",
       "..               ...             ...                       ...      ...   \n",
       "153            3.465         0.03464                   0.22208  0.77370   \n",
       "154            3.340         0.03656                   0.28665  0.35386   \n",
       "155            3.006         0.05015                   0.66320  0.47489   \n",
       "156            2.905         0.08658                   0.01530  0.41587   \n",
       "157            2.839         0.06727                   0.20868  0.13995   \n",
       "\n",
       "     Health (Life Expectancy)  Freedom  Trust (Government Corruption)  \\\n",
       "0                     0.94143  0.66557                        0.41978   \n",
       "1                     0.94784  0.62877                        0.14145   \n",
       "2                     0.87464  0.64938                        0.48357   \n",
       "3                     0.88521  0.66973                        0.36503   \n",
       "4                     0.90563  0.63297                        0.32957   \n",
       "..                        ...      ...                            ...   \n",
       "153                   0.42864  0.59201                        0.55191   \n",
       "154                   0.31910  0.48450                        0.08010   \n",
       "155                   0.72193  0.15684                        0.18906   \n",
       "156                   0.22396  0.11850                        0.10062   \n",
       "157                   0.28443  0.36453                        0.10731   \n",
       "\n",
       "     Generosity  Dystopia Residual first_five_later  \n",
       "0       0.29678            2.51738           Switze  \n",
       "1       0.43630            2.70201           Icelan  \n",
       "2       0.34139            2.49204           Denmar  \n",
       "3       0.34699            2.46531           Norway  \n",
       "4       0.45811            2.45176           Canada  \n",
       "..          ...                ...              ...  \n",
       "153     0.22628            0.67042           Rwanda  \n",
       "154     0.18260            1.63328              NaN  \n",
       "155     0.47179            0.32858              NaN  \n",
       "156     0.19727            1.83302           Burund  \n",
       "157     0.16681            1.56726              NaN  \n",
       "\n",
       "[158 rows x 13 columns]"
      ]
     },
     "execution_count": 26,
     "metadata": {},
     "output_type": "execute_result"
    }
   ],
   "source": [
    "                                              #OR\n",
    "                                #here creat new column in data frame\n",
    "#or we can creat coloumn directry into data frame\n",
    "pattern='^([A-Za-z]{6})'\n",
    "df['first_five_later']=df['Country'].str.extract(pattern)\n",
    "df=pd.DataFrame(data=df)\n",
    "df\n"
   ]
  },
  {
   "cell_type": "code",
   "execution_count": 27,
   "id": "20d928d6",
   "metadata": {},
   "outputs": [
    {
     "data": {
      "text/html": [
       "<div>\n",
       "<style scoped>\n",
       "    .dataframe tbody tr th:only-of-type {\n",
       "        vertical-align: middle;\n",
       "    }\n",
       "\n",
       "    .dataframe tbody tr th {\n",
       "        vertical-align: top;\n",
       "    }\n",
       "\n",
       "    .dataframe thead th {\n",
       "        text-align: right;\n",
       "    }\n",
       "</style>\n",
       "<table border=\"1\" class=\"dataframe\">\n",
       "  <thead>\n",
       "    <tr style=\"text-align: right;\">\n",
       "      <th></th>\n",
       "      <th>Country</th>\n",
       "    </tr>\n",
       "  </thead>\n",
       "  <tbody>\n",
       "    <tr>\n",
       "      <th>0</th>\n",
       "      <td>Switze</td>\n",
       "    </tr>\n",
       "    <tr>\n",
       "      <th>1</th>\n",
       "      <td>Icelan</td>\n",
       "    </tr>\n",
       "    <tr>\n",
       "      <th>2</th>\n",
       "      <td>Denmar</td>\n",
       "    </tr>\n",
       "    <tr>\n",
       "      <th>3</th>\n",
       "      <td>Norway</td>\n",
       "    </tr>\n",
       "    <tr>\n",
       "      <th>4</th>\n",
       "      <td>Canada</td>\n",
       "    </tr>\n",
       "    <tr>\n",
       "      <th>...</th>\n",
       "      <td>...</td>\n",
       "    </tr>\n",
       "    <tr>\n",
       "      <th>153</th>\n",
       "      <td>Rwanda</td>\n",
       "    </tr>\n",
       "    <tr>\n",
       "      <th>154</th>\n",
       "      <td>Benin</td>\n",
       "    </tr>\n",
       "    <tr>\n",
       "      <th>155</th>\n",
       "      <td>Syria</td>\n",
       "    </tr>\n",
       "    <tr>\n",
       "      <th>156</th>\n",
       "      <td>Burund</td>\n",
       "    </tr>\n",
       "    <tr>\n",
       "      <th>157</th>\n",
       "      <td>Togo</td>\n",
       "    </tr>\n",
       "  </tbody>\n",
       "</table>\n",
       "<p>158 rows × 1 columns</p>\n",
       "</div>"
      ],
      "text/plain": [
       "    Country\n",
       "0    Switze\n",
       "1    Icelan\n",
       "2    Denmar\n",
       "3    Norway\n",
       "4    Canada\n",
       "..      ...\n",
       "153  Rwanda\n",
       "154   Benin\n",
       "155   Syria\n",
       "156  Burund\n",
       "157    Togo\n",
       "\n",
       "[158 rows x 1 columns]"
      ]
     },
     "execution_count": 27,
     "metadata": {},
     "output_type": "execute_result"
    }
   ],
   "source": [
    "                                                    #OR \n",
    "#we can search like this also without regex model we can extract by indexes\n",
    "b=df['Country'].str[:6]\n",
    "b=pd.DataFrame(data=b)\n",
    "b"
   ]
  },
  {
   "cell_type": "code",
   "execution_count": 28,
   "id": "60901cb2",
   "metadata": {},
   "outputs": [
    {
     "data": {
      "text/html": [
       "<div>\n",
       "<style scoped>\n",
       "    .dataframe tbody tr th:only-of-type {\n",
       "        vertical-align: middle;\n",
       "    }\n",
       "\n",
       "    .dataframe tbody tr th {\n",
       "        vertical-align: top;\n",
       "    }\n",
       "\n",
       "    .dataframe thead th {\n",
       "        text-align: right;\n",
       "    }\n",
       "</style>\n",
       "<table border=\"1\" class=\"dataframe\">\n",
       "  <thead>\n",
       "    <tr style=\"text-align: right;\">\n",
       "      <th></th>\n",
       "      <th>Country</th>\n",
       "      <th>Region</th>\n",
       "      <th>Happiness Rank</th>\n",
       "      <th>Happiness Score</th>\n",
       "      <th>Standard Error</th>\n",
       "      <th>Economy (GDP per Capita)</th>\n",
       "      <th>Family</th>\n",
       "      <th>Health (Life Expectancy)</th>\n",
       "      <th>Freedom</th>\n",
       "      <th>Trust (Government Corruption)</th>\n",
       "      <th>Generosity</th>\n",
       "      <th>Dystopia Residual</th>\n",
       "      <th>first_five_later</th>\n",
       "    </tr>\n",
       "  </thead>\n",
       "  <tbody>\n",
       "    <tr>\n",
       "      <th>0</th>\n",
       "      <td>Switzerland</td>\n",
       "      <td>Western Europe</td>\n",
       "      <td>1</td>\n",
       "      <td>7.587</td>\n",
       "      <td>0.03411</td>\n",
       "      <td>1.39651</td>\n",
       "      <td>1.34951</td>\n",
       "      <td>0.94143</td>\n",
       "      <td>0.66557</td>\n",
       "      <td>0.41978</td>\n",
       "      <td>0.29678</td>\n",
       "      <td>2.51738</td>\n",
       "      <td>Switze</td>\n",
       "    </tr>\n",
       "    <tr>\n",
       "      <th>1</th>\n",
       "      <td>Iceland</td>\n",
       "      <td>Western Europe</td>\n",
       "      <td>2</td>\n",
       "      <td>7.561</td>\n",
       "      <td>0.04884</td>\n",
       "      <td>1.30232</td>\n",
       "      <td>1.40223</td>\n",
       "      <td>0.94784</td>\n",
       "      <td>0.62877</td>\n",
       "      <td>0.14145</td>\n",
       "      <td>0.43630</td>\n",
       "      <td>2.70201</td>\n",
       "      <td>Icelan</td>\n",
       "    </tr>\n",
       "    <tr>\n",
       "      <th>2</th>\n",
       "      <td>Denmark</td>\n",
       "      <td>Western Europe</td>\n",
       "      <td>3</td>\n",
       "      <td>7.527</td>\n",
       "      <td>0.03328</td>\n",
       "      <td>1.32548</td>\n",
       "      <td>1.36058</td>\n",
       "      <td>0.87464</td>\n",
       "      <td>0.64938</td>\n",
       "      <td>0.48357</td>\n",
       "      <td>0.34139</td>\n",
       "      <td>2.49204</td>\n",
       "      <td>Denmar</td>\n",
       "    </tr>\n",
       "    <tr>\n",
       "      <th>3</th>\n",
       "      <td>Norway</td>\n",
       "      <td>Western Europe</td>\n",
       "      <td>4</td>\n",
       "      <td>7.522</td>\n",
       "      <td>0.03880</td>\n",
       "      <td>1.45900</td>\n",
       "      <td>1.33095</td>\n",
       "      <td>0.88521</td>\n",
       "      <td>0.66973</td>\n",
       "      <td>0.36503</td>\n",
       "      <td>0.34699</td>\n",
       "      <td>2.46531</td>\n",
       "      <td>Norway</td>\n",
       "    </tr>\n",
       "    <tr>\n",
       "      <th>4</th>\n",
       "      <td>Canada</td>\n",
       "      <td>North America</td>\n",
       "      <td>5</td>\n",
       "      <td>7.427</td>\n",
       "      <td>0.03553</td>\n",
       "      <td>1.32629</td>\n",
       "      <td>1.32261</td>\n",
       "      <td>0.90563</td>\n",
       "      <td>0.63297</td>\n",
       "      <td>0.32957</td>\n",
       "      <td>0.45811</td>\n",
       "      <td>2.45176</td>\n",
       "      <td>Canada</td>\n",
       "    </tr>\n",
       "    <tr>\n",
       "      <th>5</th>\n",
       "      <td>Finland</td>\n",
       "      <td>Western Europe</td>\n",
       "      <td>6</td>\n",
       "      <td>7.406</td>\n",
       "      <td>0.03140</td>\n",
       "      <td>1.29025</td>\n",
       "      <td>1.31826</td>\n",
       "      <td>0.88911</td>\n",
       "      <td>0.64169</td>\n",
       "      <td>0.41372</td>\n",
       "      <td>0.23351</td>\n",
       "      <td>2.61955</td>\n",
       "      <td>Finlan</td>\n",
       "    </tr>\n",
       "    <tr>\n",
       "      <th>6</th>\n",
       "      <td>Netherlands</td>\n",
       "      <td>Western Europe</td>\n",
       "      <td>7</td>\n",
       "      <td>7.378</td>\n",
       "      <td>0.02799</td>\n",
       "      <td>1.32944</td>\n",
       "      <td>1.28017</td>\n",
       "      <td>0.89284</td>\n",
       "      <td>0.61576</td>\n",
       "      <td>0.31814</td>\n",
       "      <td>0.47610</td>\n",
       "      <td>2.46570</td>\n",
       "      <td>Nether</td>\n",
       "    </tr>\n",
       "    <tr>\n",
       "      <th>7</th>\n",
       "      <td>Sweden</td>\n",
       "      <td>Western Europe</td>\n",
       "      <td>8</td>\n",
       "      <td>7.364</td>\n",
       "      <td>0.03157</td>\n",
       "      <td>1.33171</td>\n",
       "      <td>1.28907</td>\n",
       "      <td>0.91087</td>\n",
       "      <td>0.65980</td>\n",
       "      <td>0.43844</td>\n",
       "      <td>0.36262</td>\n",
       "      <td>2.37119</td>\n",
       "      <td>Sweden</td>\n",
       "    </tr>\n",
       "    <tr>\n",
       "      <th>8</th>\n",
       "      <td>New Zealand</td>\n",
       "      <td>Australia and New Zealand</td>\n",
       "      <td>9</td>\n",
       "      <td>7.286</td>\n",
       "      <td>0.03371</td>\n",
       "      <td>1.25018</td>\n",
       "      <td>1.31967</td>\n",
       "      <td>0.90837</td>\n",
       "      <td>0.63938</td>\n",
       "      <td>0.42922</td>\n",
       "      <td>0.47501</td>\n",
       "      <td>2.26425</td>\n",
       "      <td>NaN</td>\n",
       "    </tr>\n",
       "    <tr>\n",
       "      <th>9</th>\n",
       "      <td>Australia</td>\n",
       "      <td>Australia and New Zealand</td>\n",
       "      <td>10</td>\n",
       "      <td>7.284</td>\n",
       "      <td>0.04083</td>\n",
       "      <td>1.33358</td>\n",
       "      <td>1.30923</td>\n",
       "      <td>0.93156</td>\n",
       "      <td>0.65124</td>\n",
       "      <td>0.35637</td>\n",
       "      <td>0.43562</td>\n",
       "      <td>2.26646</td>\n",
       "      <td>Austra</td>\n",
       "    </tr>\n",
       "  </tbody>\n",
       "</table>\n",
       "</div>"
      ],
      "text/plain": [
       "       Country                     Region  Happiness Rank  Happiness Score  \\\n",
       "0  Switzerland             Western Europe               1            7.587   \n",
       "1      Iceland             Western Europe               2            7.561   \n",
       "2      Denmark             Western Europe               3            7.527   \n",
       "3       Norway             Western Europe               4            7.522   \n",
       "4       Canada              North America               5            7.427   \n",
       "5      Finland             Western Europe               6            7.406   \n",
       "6  Netherlands             Western Europe               7            7.378   \n",
       "7       Sweden             Western Europe               8            7.364   \n",
       "8  New Zealand  Australia and New Zealand               9            7.286   \n",
       "9    Australia  Australia and New Zealand              10            7.284   \n",
       "\n",
       "   Standard Error  Economy (GDP per Capita)   Family  \\\n",
       "0         0.03411                   1.39651  1.34951   \n",
       "1         0.04884                   1.30232  1.40223   \n",
       "2         0.03328                   1.32548  1.36058   \n",
       "3         0.03880                   1.45900  1.33095   \n",
       "4         0.03553                   1.32629  1.32261   \n",
       "5         0.03140                   1.29025  1.31826   \n",
       "6         0.02799                   1.32944  1.28017   \n",
       "7         0.03157                   1.33171  1.28907   \n",
       "8         0.03371                   1.25018  1.31967   \n",
       "9         0.04083                   1.33358  1.30923   \n",
       "\n",
       "   Health (Life Expectancy)  Freedom  Trust (Government Corruption)  \\\n",
       "0                   0.94143  0.66557                        0.41978   \n",
       "1                   0.94784  0.62877                        0.14145   \n",
       "2                   0.87464  0.64938                        0.48357   \n",
       "3                   0.88521  0.66973                        0.36503   \n",
       "4                   0.90563  0.63297                        0.32957   \n",
       "5                   0.88911  0.64169                        0.41372   \n",
       "6                   0.89284  0.61576                        0.31814   \n",
       "7                   0.91087  0.65980                        0.43844   \n",
       "8                   0.90837  0.63938                        0.42922   \n",
       "9                   0.93156  0.65124                        0.35637   \n",
       "\n",
       "   Generosity  Dystopia Residual first_five_later  \n",
       "0     0.29678            2.51738           Switze  \n",
       "1     0.43630            2.70201           Icelan  \n",
       "2     0.34139            2.49204           Denmar  \n",
       "3     0.34699            2.46531           Norway  \n",
       "4     0.45811            2.45176           Canada  \n",
       "5     0.23351            2.61955           Finlan  \n",
       "6     0.47610            2.46570           Nether  \n",
       "7     0.36262            2.37119           Sweden  \n",
       "8     0.47501            2.26425              NaN  \n",
       "9     0.43562            2.26646           Austra  "
      ]
     },
     "execution_count": 28,
     "metadata": {},
     "output_type": "execute_result"
    }
   ],
   "source": [
    "#we can use this method also we can create directly into data frame also \n",
    "df1=df1['first_five_letters'] = df['Country'].str[:6]\n",
    "df1=pd.DataFrame(data=df)\n",
    "df1.head(10)"
   ]
  },
  {
   "cell_type": "markdown",
   "id": "5bd47bc8",
   "metadata": {},
   "source": [
    "# 11 question"
   ]
  },
  {
   "cell_type": "code",
   "execution_count": 29,
   "id": "3e96bbe5",
   "metadata": {},
   "outputs": [
    {
     "name": "stdout",
     "output_type": "stream",
     "text": [
      "['Virat', 'is', 'a', 'cricket', 'player', 'Earn', '1lakh', 'who', 'has', 'born', 'on', 'November_5', '1988']\n",
      "Values In New Line: Virat\n",
      "is\n",
      "a\n",
      "cricket\n",
      "player\n",
      "Earn\n",
      "1lakh\n",
      "who\n",
      "has\n",
      "born\n",
      "on\n",
      "November_5\n",
      "1988\n"
     ]
    }
   ],
   "source": [
    "#Question 11- Write a Python program to match a string that contains only upper and lowercase letters, numbers, and underscores.\n",
    "pattern='[A-z_a-z0-9]+'\n",
    "str=\"Virat is a cricket player Earn $1lakh who has@born on November_5-1988\"\n",
    "match_str=re.findall(pattern,str)\n",
    "print(match_str)\n",
    "\n",
    "print(\"Values In New Line:\",'\\n'.join(match_str))"
   ]
  },
  {
   "cell_type": "code",
   "execution_count": 30,
   "id": "d1a41d9c",
   "metadata": {},
   "outputs": [
    {
     "name": "stdout",
     "output_type": "stream",
     "text": [
      "[['Virat', 'is', 'a', 'cricket', 'player', 'Earn', '1lakh', 'who', 'has', 'born', 'on', 'November_5', '1988'], ['Hello_dataScience2405'], ['RushdaShabbir'], ['123_ABC', '123'], ['Target', 'String']]\n",
      "\n",
      " ['Virat', 'is', 'a', 'cricket', 'player', 'Earn', '1lakh', 'who', 'has', 'born', 'on', 'November_5', '1988']\n",
      "\n",
      " ['Hello_dataScience2405']\n",
      "\n",
      " ['RushdaShabbir']\n",
      "\n",
      " ['123_ABC', '123']\n",
      "\n",
      " ['Target', 'String']\n"
     ]
    }
   ],
   "source": [
    "                                            #OR\n",
    "def contain_upper_lower_underscore_num(str):\n",
    "    pattern = '[A-z_a-z0-9]+'\n",
    "    result=[re.findall(pattern,s) for s in str]\n",
    "    return result\n",
    "str=[\"Virat is a cricket player Earn $1lakh who has@born on November_5-1988\",\"Hello_dataScience2405\", \"RushdaShabbir\", \"123_ABC-123\", \"Target@String\"]\n",
    "rslt=contain_upper_lower_underscore_num(str)\n",
    "print(rslt)\n",
    "\n",
    "for result in rslt:\n",
    "    print(\"\\n\",result)"
   ]
  },
  {
   "cell_type": "markdown",
   "id": "e556a7dc",
   "metadata": {},
   "source": [
    "# 12 question"
   ]
  },
  {
   "cell_type": "code",
   "execution_count": 31,
   "id": "a37afdde",
   "metadata": {},
   "outputs": [
    {
     "name": "stdout",
     "output_type": "stream",
     "text": [
      "<regex.Match object; span=(0, 3), match='123'>\n"
     ]
    }
   ],
   "source": [
    "#Question 12- Write a Python program where a string will start with a specific number.\n",
    "string=\"123abcd DataScience is the source of DataAnalysis 30 persent people work in this field who are belong non technical backgraound\"\n",
    "partn='^[\\d]+'\n",
    "match=re.match(partn,string)\n",
    "print(match)"
   ]
  },
  {
   "cell_type": "code",
   "execution_count": 32,
   "id": "5c42b082",
   "metadata": {},
   "outputs": [
    {
     "name": "stdout",
     "output_type": "stream",
     "text": [
      "['123']\n"
     ]
    }
   ],
   "source": [
    "                                #OR\n",
    "string=\"123abcd DataScience is the source of DataAnalysis 30 persent people work in this field who are belong non technical backgraound\"\n",
    "partn='^[\\d]+'\n",
    "match=re.findall(partn,string)\n",
    "print(match)"
   ]
  },
  {
   "cell_type": "code",
   "execution_count": 33,
   "id": "df38fa99",
   "metadata": {},
   "outputs": [
    {
     "name": "stdout",
     "output_type": "stream",
     "text": [
      "123\n"
     ]
    }
   ],
   "source": [
    "string=\"123abcd DataScience is the source of DataAnalysis 30 persent people work in this field who are belong non technical backgraound\"\n",
    "partn='\\d+'\n",
    "match=re.search(partn,string)\n",
    "print(match.group())"
   ]
  },
  {
   "cell_type": "markdown",
   "id": "85f65904",
   "metadata": {},
   "source": [
    "# 13 question"
   ]
  },
  {
   "cell_type": "code",
   "execution_count": 34,
   "id": "1533f7cd",
   "metadata": {},
   "outputs": [
    {
     "name": "stdout",
     "output_type": "stream",
     "text": [
      "192.168..1\n"
     ]
    }
   ],
   "source": [
    "#Question 13- Write a Python program to remove leading zeros from an IP address\n",
    "ip_address= '192.168.0.1'\n",
    "pattrn='[0]+'\n",
    "remove_zero=re.sub(pattrn,\"\",ip_address)\n",
    "print(remove_zero)"
   ]
  },
  {
   "cell_type": "markdown",
   "id": "f923de0a",
   "metadata": {},
   "source": [
    "# 14 question\n"
   ]
  },
  {
   "cell_type": "code",
   "execution_count": 35,
   "id": "de8fcf16",
   "metadata": {},
   "outputs": [
    {
     "name": "stdout",
     "output_type": "stream",
     "text": [
      "['August 15th 1947']\n"
     ]
    }
   ],
   "source": [
    "#Question 14- Write a regular expression in python to match a date string in the form of Month name followed by day number and year stored in a text file.sample_text ='On August 15th 1947 that India was declared independent from British colonialism, and the reins of control were handed over to the leaders of the Country'\n",
    "date_text='On August 15th 1947 that India was declared independent from British colonialism, and the reins of control were handed over to the leaders of the Country'\n",
    "regex_ob= '(?:August)\\s+\\d{2}(?:th)\\s+\\d{4}'\n",
    "extract_date = re.findall(regex_ob, date_text)\n",
    "print(extract_date)"
   ]
  },
  {
   "cell_type": "code",
   "execution_count": 36,
   "id": "d1376381",
   "metadata": {},
   "outputs": [],
   "source": [
    "file1 = open(\"file_extract_month.txt\", \"w\")\n",
    "file1.write('On August 15th 1947 that India was declared independent from British colonialism, and the reins of control were handed over to the leaders of the Country')\n",
    "file1.close()"
   ]
  },
  {
   "cell_type": "code",
   "execution_count": 37,
   "id": "0fe21a06",
   "metadata": {},
   "outputs": [
    {
     "name": "stdout",
     "output_type": "stream",
     "text": [
      "['August 15th 1947']\n"
     ]
    }
   ],
   "source": [
    "with open(\"file_extract_month.txt\") as files:\n",
    "    for i in files:\n",
    "        finds=re.findall(r'(?:August)\\s+\\d{2}(?:th)\\s+\\d{4}',i)\n",
    "        print(finds)"
   ]
  },
  {
   "cell_type": "markdown",
   "id": "9a133eb7",
   "metadata": {},
   "source": [
    "# 15 question"
   ]
  },
  {
   "cell_type": "code",
   "execution_count": 38,
   "id": "f4cca2ab",
   "metadata": {},
   "outputs": [
    {
     "name": "stdout",
     "output_type": "stream",
     "text": [
      "['fox', 'dog']\n"
     ]
    }
   ],
   "source": [
    "#Question 15- Write a Python program to search some literals strings in a string. \n",
    "saml_strt='The quick brown fox jumps over the lazy dog.'\n",
    "re_object='(fox|dog|horse)'\n",
    "matc=re.findall(re_object,saml_strt)\n",
    "print(matc)\n",
    "\n"
   ]
  },
  {
   "cell_type": "code",
   "execution_count": 39,
   "id": "3efea06e",
   "metadata": {},
   "outputs": [
    {
     "name": "stdout",
     "output_type": "stream",
     "text": [
      "[['fox', 'dog']]\n"
     ]
    }
   ],
   "source": [
    "                                    #OR\n",
    "def search_words(sting):\n",
    "    pattern = '(fox|dog|horse)' \n",
    "    regex = re.compile(pattern)\n",
    "    result= [regex.findall(s) for s in sting]\n",
    "    return result\n",
    "\n",
    "searchf=['The quick brown fox jumps over the lazy dog.']\n",
    "\n",
    "result_text = search_words(searchf)\n",
    "print(result_text)"
   ]
  },
  {
   "cell_type": "code",
   "execution_count": 40,
   "id": "d3a18983",
   "metadata": {},
   "outputs": [
    {
     "name": "stdout",
     "output_type": "stream",
     "text": [
      "Find strings: ['fox', 'dog']\n"
     ]
    }
   ],
   "source": [
    "                                            #OR\n",
    "s_strng= 'The quick brown fox jumps over the lazy dog.'\n",
    "\n",
    "search_list = ['fox', 'dog', 'horse']\n",
    "\n",
    "find_strings= []\n",
    "\n",
    "for search_str in search_list:\n",
    "    if search_str in s_strng:\n",
    "        find_strings.append(search_str)\n",
    "\n",
    "print(\"Find strings:\", find_strings)"
   ]
  },
  {
   "cell_type": "markdown",
   "id": "057787db",
   "metadata": {},
   "source": [
    "# 16 question"
   ]
  },
  {
   "cell_type": "code",
   "execution_count": 41,
   "id": "72a7c2e5",
   "metadata": {},
   "outputs": [
    {
     "name": "stdout",
     "output_type": "stream",
     "text": [
      "<regex.Match object; span=(16, 19), match='fox'>\n"
     ]
    }
   ],
   "source": [
    "#Question 16- Write a Python program to search a literals string in a string and also find the location within the original string where the pattern occurs\n",
    "literal_str='The quick brown fox jumps over the lazy dog.'\n",
    "regex_pat=r'\\bfox\\b'\n",
    "ser=re.search(regex_pat,literal_str)\n",
    "print(ser)"
   ]
  },
  {
   "cell_type": "code",
   "execution_count": 42,
   "id": "c0387f6b",
   "metadata": {},
   "outputs": [
    {
     "name": "stdout",
     "output_type": "stream",
     "text": [
      "<regex.Match object; span=(16, 19), match='fox'>\n"
     ]
    }
   ],
   "source": [
    "                                          #OR\n",
    "literal_str='The quick brown fox jumps over the lazy dog.'\n",
    "regex_pat=r'f\\w+x\\b'\n",
    "ser=re.search(regex_pat,literal_str)\n",
    "print(ser)"
   ]
  },
  {
   "cell_type": "markdown",
   "id": "94131763",
   "metadata": {},
   "source": [
    "# 17 question"
   ]
  },
  {
   "cell_type": "code",
   "execution_count": 43,
   "id": "44db7c04",
   "metadata": {},
   "outputs": [
    {
     "name": "stdout",
     "output_type": "stream",
     "text": [
      "['exercises', 'exercises', 'exercises']\n"
     ]
    }
   ],
   "source": [
    "#Question 17- Write a Python program to find the substrings within a string.\n",
    "str_sub='Python exercises, PHP exercises, C# exercises'\n",
    "Pattern='exercises'\n",
    "sub_string=re.findall(Pattern,str_sub)\n",
    "print(sub_string)"
   ]
  },
  {
   "cell_type": "markdown",
   "id": "4af35857",
   "metadata": {},
   "source": [
    "# 18 question"
   ]
  },
  {
   "cell_type": "code",
   "execution_count": 44,
   "id": "d9631d36",
   "metadata": {},
   "outputs": [
    {
     "name": "stdout",
     "output_type": "stream",
     "text": [
      "<regex.Match object; span=(7, 16), match='exercises'>\n",
      "exercises\n",
      "<regex.Match object; span=(22, 31), match='exercises'>\n",
      "exercises\n",
      "<regex.Match object; span=(36, 45), match='exercises'>\n",
      "exercises\n"
     ]
    }
   ],
   "source": [
    "#Question 18- Write a Python program to find the occurrence and position of the substrings within a string.str_sub='Python exercises, PHP exercises, C# exercises'\n",
    "str_sub='Python exercises, PHP exercises, C# exercises'\n",
    "pattern='exercises'\n",
    "comp=re.compile(pattern)\n",
    "\n",
    "for search in comp.finditer(str_sub):\n",
    "    print(search)\n",
    "    print(search.group())"
   ]
  },
  {
   "cell_type": "markdown",
   "id": "1f585f85",
   "metadata": {},
   "source": [
    "# 19 question\n",
    "#Question 19- Write a Python program to convert a date of yyyy-mm-dd format to dd-mm-yyyy format."
   ]
  },
  {
   "cell_type": "code",
   "execution_count": 45,
   "id": "88f342e7",
   "metadata": {},
   "outputs": [
    {
     "data": {
      "text/plain": [
       "datetime.date(2024, 5, 25)"
      ]
     },
     "execution_count": 45,
     "metadata": {},
     "output_type": "execute_result"
    }
   ],
   "source": [
    "import datetime\n",
    "from datetime import date\n",
    "a=datetime.date.today()\n",
    "a"
   ]
  },
  {
   "cell_type": "code",
   "execution_count": 46,
   "id": "408edfba",
   "metadata": {},
   "outputs": [
    {
     "name": "stdout",
     "output_type": "stream",
     "text": [
      "original date: 2024-05-24\n",
      "converted_date: 24-05-2024\n"
     ]
    }
   ],
   "source": [
    "b = datetime.date(2024, 5, 24)\n",
    "print(\"original date:\",b)\n",
    "convert_date=b.strftime('%d-%m-%Y')\n",
    "print(\"converted_date:\",convert_date)"
   ]
  },
  {
   "cell_type": "markdown",
   "id": "f50d2ce8",
   "metadata": {},
   "source": [
    "# 20 question\n",
    "#Question 20- Create a function in python to find all decimal numbers with a precision of 1 or 2 in a string. The use of the re.compile() method is mandatory."
   ]
  },
  {
   "cell_type": "code",
   "execution_count": 47,
   "id": "214f5baa",
   "metadata": {},
   "outputs": [
    {
     "data": {
      "text/plain": [
       "['01.12', '145.8', '3.01', '27.25', '0.25']"
      ]
     },
     "execution_count": 47,
     "metadata": {},
     "output_type": "execute_result"
    }
   ],
   "source": [
    "Sample_Text=\"01.12 0132.123 2.31875 145.8 3.01 27.25 0.25\"\n",
    "pattern=r'\\b\\d*\\.\\d{1,2}\\b'\n",
    "regex_object=re.compile(pattern)\n",
    "search_decimal_num=regex_object.findall(Sample_Text)\n",
    "search_decimal_num\n"
   ]
  },
  {
   "cell_type": "markdown",
   "id": "0dbfa377",
   "metadata": {},
   "source": [
    "# Question 21\n",
    "#Write a Python program to separate and print the numbers and their position of a given string."
   ]
  },
  {
   "cell_type": "code",
   "execution_count": 48,
   "id": "c2b4db64",
   "metadata": {},
   "outputs": [
    {
     "name": "stdout",
     "output_type": "stream",
     "text": [
      "['01.12', '0132.123', '2.31875', '145.8', '3.01', '27.25', '0.25']\n"
     ]
    }
   ],
   "source": [
    "#Write a Python program to separate and print the numbers and their position of a given string.\n",
    "Sample_Text = \"01.12 0132.123 2.31875 145.8 3.01 27.25 0.25\"\n",
    "pattern=r'\\s+'\n",
    "sep_num=re.split(pattern,Sample_Text)\n",
    "print(sep_num)"
   ]
  },
  {
   "cell_type": "code",
   "execution_count": 49,
   "id": "4ededd32",
   "metadata": {},
   "outputs": [
    {
     "name": "stdout",
     "output_type": "stream",
     "text": [
      "<regex.Match object; span=(1, 6), match='01.12'>\n",
      "01.12\n",
      "<regex.Match object; span=(7, 15), match='0132.123'>\n",
      "0132.123\n",
      "<regex.Match object; span=(16, 23), match='2.31875'>\n",
      "2.31875\n",
      "<regex.Match object; span=(24, 29), match='145.8'>\n",
      "145.8\n",
      "<regex.Match object; span=(30, 34), match='3.01'>\n",
      "3.01\n",
      "<regex.Match object; span=(35, 40), match='27.25'>\n",
      "27.25\n",
      "<regex.Match object; span=(41, 45), match='0.25'>\n",
      "0.25\n"
     ]
    }
   ],
   "source": [
    "Sample_Text = \" 01.12 0132.123 2.31875 145.8 3.01 27.25 0.25\"\n",
    "pattern=r'\\b\\d+\\.\\d+\\b'\n",
    "comp_reg=re.compile(pattern)\n",
    "\n",
    "for search in comp_reg.finditer(Sample_Text):\n",
    "        print(search)\n",
    "        print(search.group())\n",
    "    "
   ]
  },
  {
   "cell_type": "code",
   "execution_count": 50,
   "id": "766de13f",
   "metadata": {},
   "outputs": [
    {
     "name": "stdout",
     "output_type": "stream",
     "text": [
      "sep_num: 01.12 index_num: (1, 6)\n",
      "sep_num: 0132.123 index_num: (7, 15)\n",
      "sep_num: 2.31875 index_num: (16, 23)\n",
      "sep_num: 145.8 index_num: (24, 29)\n",
      "sep_num: 3.01 index_num: (30, 34)\n",
      "sep_num: 27.25 index_num: (35, 40)\n",
      "sep_num: 0.25 index_num: (41, 45)\n"
     ]
    }
   ],
   "source": [
    "Sample_Text = \" 01.12 0132.123 2.31875 145.8 3.01 27.25 0.25\"\n",
    "pattern=r'\\b\\d+\\.\\d+\\b'\n",
    "match= re.finditer(pattern,Sample_Text)\n",
    "for search in match:\n",
    "    sep_num=search.group()\n",
    "    num_position=search.span()\n",
    "    print(\"sep_num:\",sep_num,\"index_num:\",num_position)"
   ]
  },
  {
   "cell_type": "markdown",
   "id": "32a0a8cd",
   "metadata": {},
   "source": [
    "# 22 question"
   ]
  },
  {
   "cell_type": "code",
   "execution_count": 51,
   "id": "4de78f1a",
   "metadata": {},
   "outputs": [
    {
     "name": "stdout",
     "output_type": "stream",
     "text": [
      "['947', '896', '926', '524', '734', '950', '642']\n",
      "maximum num.: 950\n"
     ]
    }
   ],
   "source": [
    "#Question 22- Write a regular expression in python program to extract maximum/largest numeric value from a string.\n",
    "string_num='My marks in each semester are: 947, 896, 926, 524, 734, 950, 642'\n",
    "pattern=r'\\b\\d+\\b'\n",
    "numeric_val=re.findall(pattern,string_num)\n",
    "print(numeric_val)\n",
    "if numeric_val:\n",
    "    max_num=max(map(int,numeric_val))\n",
    "    print(\"maximum num.:\",max_num)\n",
    "else:\n",
    "    print('None')\n"
   ]
  },
  {
   "cell_type": "markdown",
   "id": "84305fd1",
   "metadata": {},
   "source": [
    "# 23 question"
   ]
  },
  {
   "cell_type": "code",
   "execution_count": 52,
   "id": "c81ffe69",
   "metadata": {},
   "outputs": [
    {
     "name": "stdout",
     "output_type": "stream",
     "text": [
      " Regular Expression Is An Important Topic In Python\n"
     ]
    }
   ],
   "source": [
    "#Question 23- Create a function in python to insert spaces between words starting with capital letters.\n",
    "add_spc='RegularExpressionIsAnImportantTopicInPython'\n",
    "regex=r'(?=[A-Z])'\n",
    "add_space=re.sub(regex,\" \",add_spc)\n",
    "print(add_space)\n",
    "#Expected Output: Regular Expression Is An Important Topic In Python\n"
   ]
  },
  {
   "cell_type": "markdown",
   "id": "613d92bf",
   "metadata": {},
   "source": [
    "# 24 question"
   ]
  },
  {
   "cell_type": "code",
   "execution_count": 53,
   "id": "2847d7e6",
   "metadata": {},
   "outputs": [
    {
     "name": "stdout",
     "output_type": "stream",
     "text": [
      " Regular Expression Is An Important Topic In Python\n"
     ]
    }
   ],
   "source": [
    "#Question 24- Python regex to find sequences of one upper case letter followed by lower case letters\n",
    "add_spc='RegularExpressionIsAnImportantTopicInPython'\n",
    "pattern=r'^[A-Za-z]'\n",
    "find_upper_lower=re.findall(pattern,add_spc)\n",
    "print(add_space)\n"
   ]
  },
  {
   "cell_type": "markdown",
   "id": "02e07e89",
   "metadata": {},
   "source": [
    "# 25 question"
   ]
  },
  {
   "cell_type": "code",
   "execution_count": 54,
   "id": "3a3df5e8",
   "metadata": {},
   "outputs": [
    {
     "name": "stdout",
     "output_type": "stream",
     "text": [
      "Hello hello world\n"
     ]
    }
   ],
   "source": [
    "#Question 25- Write a Python program to remove continuous duplicate words from Sentence using Regular Expression.\n",
    "str_dupli=\"Hello hello world world\"\n",
    "#Expected Output: Hello hello world\n",
    "partn=r'\\b(\\w+)(?:\\W\\1\\b)+'\n",
    "remove_duplicate=re.sub(partn,r'\\1',str_dupli)\n",
    "print(remove_duplicate)\n"
   ]
  },
  {
   "cell_type": "markdown",
   "id": "74f3a840",
   "metadata": {},
   "source": [
    "# Question 26"
   ]
  },
  {
   "cell_type": "code",
   "execution_count": 55,
   "id": "af1cc299",
   "metadata": {},
   "outputs": [
    {
     "name": "stdout",
     "output_type": "stream",
     "text": [
      "['Datascience123', 'python', 'program45', 'programming', 'language365']\n"
     ]
    }
   ],
   "source": [
    "#Write a python program using RegEx to accept string ending with alphanumeric character.\n",
    "alph_num = 'Datascience123 python program45 programming language365'\n",
    "pattern = r'\\b\\w+\\b'  \n",
    "alpha_numeric = re.findall(pattern, alph_num)\n",
    "print(alpha_numeric)"
   ]
  },
  {
   "cell_type": "code",
   "execution_count": 56,
   "id": "1619cecc",
   "metadata": {},
   "outputs": [
    {
     "name": "stdout",
     "output_type": "stream",
     "text": [
      "['language365']\n"
     ]
    }
   ],
   "source": [
    "alph_num='Datascience123 python program45 programming language365'\n",
    "pattern=r'\\b\\w+$\\b'\n",
    "alpha_numeric=re.findall(pattern,alph_num)\n",
    "print(alpha_numeric)"
   ]
  },
  {
   "cell_type": "code",
   "execution_count": 57,
   "id": "d9aedce6",
   "metadata": {},
   "outputs": [
    {
     "name": "stdout",
     "output_type": "stream",
     "text": [
      "['Datascience123', 'program45', 'language365']\n"
     ]
    }
   ],
   "source": [
    "alph_num = 'Datascience123 python program45 programming language365'\n",
    "pattern= r'\\b(?=\\w*\\d)(?=\\w*[a-zA-Z])\\w+\\b'\n",
    "alpha_numeric = re.findall(pattern, alph_num)\n",
    "print(alpha_numeric)"
   ]
  },
  {
   "cell_type": "markdown",
   "id": "5c974871",
   "metadata": {},
   "source": [
    "# 27 question"
   ]
  },
  {
   "cell_type": "code",
   "execution_count": 58,
   "id": "a2d43342",
   "metadata": {},
   "outputs": [
    {
     "name": "stdout",
     "output_type": "stream",
     "text": [
      "['#Doltiwal', '#xyzabc', '#Demonetization']\n"
     ]
    }
   ],
   "source": [
    "#Question 27-Write a python program using RegEx to extract the hashtags.\n",
    "hash_str='RT @kapil_kausik: #Doltiwal I mean #xyzabc is \"hurt\" by #Demonetization as the same has rendered USELESS <ed><U+00A0><U+00BD><ed><U+00B1><U+0089> \"acquired funds\" No wo'\n",
    "pattern=r'#[\\w]+'\n",
    "search_hashtag=re.findall(pattern,hash_str)\n",
    "print(search_hashtag)\n"
   ]
  },
  {
   "cell_type": "markdown",
   "id": "863994db",
   "metadata": {},
   "source": [
    "# 28 question"
   ]
  },
  {
   "cell_type": "code",
   "execution_count": 59,
   "id": "46d21bd6",
   "metadata": {},
   "outputs": [
    {
     "name": "stdout",
     "output_type": "stream",
     "text": [
      "@Jags123456 Bharat band on 28??<ed><ed>Those who  are protesting #demonetization  are all different party leaders\n"
     ]
    }
   ],
   "source": [
    "sample_text = \"@Jags123456 Bharat band on 28??<ed><U+00A0><U+00BD><ed><U+00B8><U+0082>Those who  are protesting #demonetization  are all different party leaders\"\n",
    "pattern = r'<U\\+\\w{4}+>'  \n",
    "remove_text = re.sub(pattern, '', sample_text)\n",
    "print(remove_text)"
   ]
  },
  {
   "cell_type": "markdown",
   "id": "3f1bc3f3",
   "metadata": {},
   "source": [
    "# 29 question"
   ]
  },
  {
   "cell_type": "code",
   "execution_count": 60,
   "id": "da565ec9",
   "metadata": {},
   "outputs": [
    {
     "name": "stdout",
     "output_type": "stream",
     "text": [
      "['12-09-1992', '15-12-1999']\n"
     ]
    }
   ],
   "source": [
    "#Question 29- Write a python program to extract dates from the text stored in the text file.\n",
    "extract_date='Ron was born on 12-09-1992 and he was admitted to school 15-12-1999'\n",
    "pattern=r'\\d{2}-\\d{2}-\\d{4}+'\n",
    "search_date=re.findall(pattern,extract_date)\n",
    "print(search_date)\n"
   ]
  },
  {
   "cell_type": "markdown",
   "id": "820c4002",
   "metadata": {},
   "source": [
    "# 30 question"
   ]
  },
  {
   "cell_type": "code",
   "execution_count": 61,
   "id": "a09ea65b",
   "metadata": {},
   "outputs": [
    {
     "name": "stdout",
     "output_type": "stream",
     "text": [
      "<class '_regex.Pattern'>\n",
      " following example creates  ArrayList  a capacity   elements. 4 elements   added   ArrayList   ArrayList  trimmed accordingly.\n"
     ]
    }
   ],
   "source": [
    "#Question 30- Create a function in python to remove all words from a string of length between 2 and 4.\n",
    "#The use of the re.compile() method is mandatory.\n",
    "samp_string=\"The following example creates an ArrayList with a capacity of 50 elements. 4 elements are then added to the ArrayList and the ArrayList is trimmed accordingly.\"\n",
    "pattern=r'\\b\\w{2,4}\\b'\n",
    "regex_object=re.compile(pattern)\n",
    "print(type(regex_object))\n",
    "remove_str=regex_object.sub('',samp_string)\n",
    "print(remove_str)\n"
   ]
  },
  {
   "cell_type": "code",
   "execution_count": null,
   "id": "150ab8c3",
   "metadata": {},
   "outputs": [],
   "source": []
  }
 ],
 "metadata": {
  "kernelspec": {
   "display_name": "Python 3 (ipykernel)",
   "language": "python",
   "name": "python3"
  },
  "language_info": {
   "codemirror_mode": {
    "name": "ipython",
    "version": 3
   },
   "file_extension": ".py",
   "mimetype": "text/x-python",
   "name": "python",
   "nbconvert_exporter": "python",
   "pygments_lexer": "ipython3",
   "version": "3.11.5"
  }
 },
 "nbformat": 4,
 "nbformat_minor": 5
}
